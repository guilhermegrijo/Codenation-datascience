{
 "cells": [
  {
   "cell_type": "markdown",
   "metadata": {},
   "source": [
    "# Desafio 6\n",
    "\n",
    "Neste desafio, vamos praticar _feature engineering_, um dos processos mais importantes e trabalhosos de ML. Utilizaremos o _data set_ [Countries of the world](https://www.kaggle.com/fernandol/countries-of-the-world), que contém dados sobre os 227 países do mundo com informações sobre tamanho da população, área, imigração e setores de produção.\n",
    "\n",
    "> Obs.: Por favor, não modifique o nome das funções de resposta."
   ]
  },
  {
   "cell_type": "markdown",
   "metadata": {},
   "source": [
    "## _Setup_ geral"
   ]
  },
  {
   "cell_type": "code",
   "execution_count": 23,
   "metadata": {},
   "outputs": [],
   "source": [
    "import pandas as pd\n",
    "from math import sqrt\n",
    "import numpy as np\n",
    "import seaborn as sns\n",
    "import sklearn as sk\n",
    "import scipy.stats as sct\n",
    "from sklearn.pipeline import Pipeline\n",
    "from sklearn.impute import SimpleImputer\n",
    "from sklearn.preprocessing import (\n",
    "    OneHotEncoder, Binarizer, KBinsDiscretizer,\n",
    "    MinMaxScaler, StandardScaler, PolynomialFeatures\n",
    ")\n",
    "from sklearn.compose import ColumnTransformer\n",
    "from sklearn.feature_extraction.text import (\n",
    "    CountVectorizer, TfidfTransformer, TfidfVectorizer\n",
    ")"
   ]
  },
  {
   "cell_type": "code",
   "execution_count": null,
   "metadata": {},
   "outputs": [],
   "source": [
    "# Algumas configurações para o matplotlib.\n",
    "#%matplotlib inline\n",
    "\n",
    "from IPython.core.pylabtools import figsize\n",
    "\n",
    "\n",
    "figsize(12, 8)\n",
    "\n",
    "sns.set()"
   ]
  },
  {
   "cell_type": "code",
   "execution_count": 27,
   "metadata": {},
   "outputs": [],
   "source": [
    "countries = pd.read_csv(\"countries.csv\")"
   ]
  },
  {
   "cell_type": "code",
   "execution_count": 28,
   "metadata": {},
   "outputs": [
    {
     "output_type": "execute_result",
     "data": {
      "text/plain": "               Country                               Region  Population  \\\n0         Afghanistan         ASIA (EX. NEAR EAST)             31056997   \n1             Albania   EASTERN EUROPE                          3581655   \n2             Algeria   NORTHERN AFRICA                        32930091   \n3      American Samoa   OCEANIA                                   57794   \n4             Andorra   WESTERN EUROPE                            71201   \n5              Angola   SUB-SAHARAN AFRICA                     12127071   \n6            Anguilla               LATIN AMER. & CARIB           13477   \n7   Antigua & Barbuda               LATIN AMER. & CARIB           69108   \n8           Argentina               LATIN AMER. & CARIB        39921833   \n9             Armenia                  C.W. OF IND. STATES      2976372   \n10              Aruba               LATIN AMER. & CARIB           71891   \n11          Australia   OCEANIA                                20264082   \n12            Austria   WESTERN EUROPE                          8192880   \n13         Azerbaijan                  C.W. OF IND. STATES      7961619   \n14       Bahamas, The               LATIN AMER. & CARIB          303770   \n15            Bahrain   NEAR EAST                                698585   \n16         Bangladesh         ASIA (EX. NEAR EAST)            147365352   \n17           Barbados               LATIN AMER. & CARIB          279912   \n18            Belarus                  C.W. OF IND. STATES     10293011   \n19            Belgium   WESTERN EUROPE                         10379067   \n\n       Area Pop_density Coastline_ratio Net_migration Infant_mortality  \\\n0    647500        48,0            0,00         23,06           163,07   \n1     28748       124,6            1,26         -4,93            21,52   \n2   2381740        13,8            0,04         -0,39               31   \n3       199       290,4           58,29        -20,71             9,27   \n4       468       152,1            0,00           6,6             4,05   \n5   1246700         9,7            0,13             0           191,19   \n6       102       132,1           59,80         10,76            21,03   \n7       443       156,0           34,54         -6,15            19,46   \n8   2766890        14,4            0,18          0,61            15,18   \n9     29800        99,9            0,00         -6,47            23,28   \n10      193       372,5           35,49             0             5,89   \n11  7686850         2,6            0,34          3,98             4,69   \n12    83870        97,7            0,00             2             4,66   \n13    86600        91,9            0,00          -4,9            81,74   \n14    13940        21,8           25,41          -2,2            25,21   \n15      665      1050,5           24,21          1,05            17,27   \n16   144000      1023,4            0,40         -0,71             62,6   \n17      431       649,5           22,51         -0,31             12,5   \n18   207600        49,6            0,00          2,54            13,37   \n19    30528       340,0            0,22          1,23             4,68   \n\n        GDP Literacy Phones_per_1000 Arable Crops  Other Climate Birthrate  \\\n0     700.0     36,0             3,2  12,13  0,22  87,65       1      46,6   \n1    4500.0     86,5            71,2  21,09  4,42  74,49       3     15,11   \n2    6000.0     70,0            78,1   3,22  0,25  96,53       1     17,14   \n3    8000.0     97,0           259,5     10    15     75       2     22,46   \n4   19000.0    100,0           497,2   2,22     0  97,78       3      8,71   \n5    1900.0     42,0             7,8   2,41  0,24  97,35     NaN     45,11   \n6    8600.0     95,0           460,0      0     0    100       2     14,17   \n7   11000.0     89,0           549,9  18,18  4,55  77,27       2     16,93   \n8   11200.0     97,1           220,4  12,31  0,48  87,21       3     16,73   \n9    3500.0     98,6           195,7  17,55   2,3  80,15       4     12,07   \n10  28000.0     97,0           516,1  10,53     0  89,47       2     11,03   \n11  29000.0    100,0           565,5   6,55  0,04  93,41       1     12,14   \n12  30000.0     98,0           452,2  16,91  0,86  82,23       3      8,74   \n13   3400.0     97,0           137,1  19,63  2,71  77,66       1     20,74   \n14  16700.0     95,6           460,6    0,8   0,4   98,8       2     17,57   \n15  16900.0     89,1           281,3   2,82  5,63  91,55       1      17,8   \n16   1900.0     43,1             7,3  62,11  3,07  34,82       2      29,8   \n17  15700.0     97,4           481,9  37,21  2,33  60,46       2     12,71   \n18   6100.0     99,6           319,1  29,55   0,6  69,85       4     11,16   \n19  29100.0     98,0           462,6  23,28   0,4  76,32       3     10,38   \n\n   Deathrate Agriculture Industry Service  \n0      20,34        0,38     0,24    0,38  \n1       5,22       0,232    0,188   0,579  \n2       4,61       0,101      0,6   0,298  \n3       3,27         NaN      NaN     NaN  \n4       6,25         NaN      NaN     NaN  \n5       24,2       0,096    0,658   0,246  \n6       5,34        0,04     0,18    0,78  \n7       5,37       0,038     0,22   0,743  \n8       7,55       0,095    0,358   0,547  \n9       8,23       0,239    0,343   0,418  \n10      6,68       0,004    0,333   0,663  \n11      7,51       0,038    0,262     0,7  \n12      9,76       0,018    0,304   0,678  \n13      9,75       0,141    0,457   0,402  \n14      9,05        0,03     0,07     0,9  \n15      4,14       0,005    0,387   0,608  \n16      8,27       0,199    0,198   0,603  \n17      8,67        0,06     0,16    0,78  \n18     14,02       0,093    0,316   0,591  \n19     10,27        0,01     0,24   0,749  ",
      "text/html": "<div>\n<style scoped>\n    .dataframe tbody tr th:only-of-type {\n        vertical-align: middle;\n    }\n\n    .dataframe tbody tr th {\n        vertical-align: top;\n    }\n\n    .dataframe thead th {\n        text-align: right;\n    }\n</style>\n<table border=\"1\" class=\"dataframe\">\n  <thead>\n    <tr style=\"text-align: right;\">\n      <th></th>\n      <th>Country</th>\n      <th>Region</th>\n      <th>Population</th>\n      <th>Area</th>\n      <th>Pop_density</th>\n      <th>Coastline_ratio</th>\n      <th>Net_migration</th>\n      <th>Infant_mortality</th>\n      <th>GDP</th>\n      <th>Literacy</th>\n      <th>Phones_per_1000</th>\n      <th>Arable</th>\n      <th>Crops</th>\n      <th>Other</th>\n      <th>Climate</th>\n      <th>Birthrate</th>\n      <th>Deathrate</th>\n      <th>Agriculture</th>\n      <th>Industry</th>\n      <th>Service</th>\n    </tr>\n  </thead>\n  <tbody>\n    <tr>\n      <th>0</th>\n      <td>Afghanistan</td>\n      <td>ASIA (EX. NEAR EAST)</td>\n      <td>31056997</td>\n      <td>647500</td>\n      <td>48,0</td>\n      <td>0,00</td>\n      <td>23,06</td>\n      <td>163,07</td>\n      <td>700.0</td>\n      <td>36,0</td>\n      <td>3,2</td>\n      <td>12,13</td>\n      <td>0,22</td>\n      <td>87,65</td>\n      <td>1</td>\n      <td>46,6</td>\n      <td>20,34</td>\n      <td>0,38</td>\n      <td>0,24</td>\n      <td>0,38</td>\n    </tr>\n    <tr>\n      <th>1</th>\n      <td>Albania</td>\n      <td>EASTERN EUROPE</td>\n      <td>3581655</td>\n      <td>28748</td>\n      <td>124,6</td>\n      <td>1,26</td>\n      <td>-4,93</td>\n      <td>21,52</td>\n      <td>4500.0</td>\n      <td>86,5</td>\n      <td>71,2</td>\n      <td>21,09</td>\n      <td>4,42</td>\n      <td>74,49</td>\n      <td>3</td>\n      <td>15,11</td>\n      <td>5,22</td>\n      <td>0,232</td>\n      <td>0,188</td>\n      <td>0,579</td>\n    </tr>\n    <tr>\n      <th>2</th>\n      <td>Algeria</td>\n      <td>NORTHERN AFRICA</td>\n      <td>32930091</td>\n      <td>2381740</td>\n      <td>13,8</td>\n      <td>0,04</td>\n      <td>-0,39</td>\n      <td>31</td>\n      <td>6000.0</td>\n      <td>70,0</td>\n      <td>78,1</td>\n      <td>3,22</td>\n      <td>0,25</td>\n      <td>96,53</td>\n      <td>1</td>\n      <td>17,14</td>\n      <td>4,61</td>\n      <td>0,101</td>\n      <td>0,6</td>\n      <td>0,298</td>\n    </tr>\n    <tr>\n      <th>3</th>\n      <td>American Samoa</td>\n      <td>OCEANIA</td>\n      <td>57794</td>\n      <td>199</td>\n      <td>290,4</td>\n      <td>58,29</td>\n      <td>-20,71</td>\n      <td>9,27</td>\n      <td>8000.0</td>\n      <td>97,0</td>\n      <td>259,5</td>\n      <td>10</td>\n      <td>15</td>\n      <td>75</td>\n      <td>2</td>\n      <td>22,46</td>\n      <td>3,27</td>\n      <td>NaN</td>\n      <td>NaN</td>\n      <td>NaN</td>\n    </tr>\n    <tr>\n      <th>4</th>\n      <td>Andorra</td>\n      <td>WESTERN EUROPE</td>\n      <td>71201</td>\n      <td>468</td>\n      <td>152,1</td>\n      <td>0,00</td>\n      <td>6,6</td>\n      <td>4,05</td>\n      <td>19000.0</td>\n      <td>100,0</td>\n      <td>497,2</td>\n      <td>2,22</td>\n      <td>0</td>\n      <td>97,78</td>\n      <td>3</td>\n      <td>8,71</td>\n      <td>6,25</td>\n      <td>NaN</td>\n      <td>NaN</td>\n      <td>NaN</td>\n    </tr>\n    <tr>\n      <th>5</th>\n      <td>Angola</td>\n      <td>SUB-SAHARAN AFRICA</td>\n      <td>12127071</td>\n      <td>1246700</td>\n      <td>9,7</td>\n      <td>0,13</td>\n      <td>0</td>\n      <td>191,19</td>\n      <td>1900.0</td>\n      <td>42,0</td>\n      <td>7,8</td>\n      <td>2,41</td>\n      <td>0,24</td>\n      <td>97,35</td>\n      <td>NaN</td>\n      <td>45,11</td>\n      <td>24,2</td>\n      <td>0,096</td>\n      <td>0,658</td>\n      <td>0,246</td>\n    </tr>\n    <tr>\n      <th>6</th>\n      <td>Anguilla</td>\n      <td>LATIN AMER. &amp; CARIB</td>\n      <td>13477</td>\n      <td>102</td>\n      <td>132,1</td>\n      <td>59,80</td>\n      <td>10,76</td>\n      <td>21,03</td>\n      <td>8600.0</td>\n      <td>95,0</td>\n      <td>460,0</td>\n      <td>0</td>\n      <td>0</td>\n      <td>100</td>\n      <td>2</td>\n      <td>14,17</td>\n      <td>5,34</td>\n      <td>0,04</td>\n      <td>0,18</td>\n      <td>0,78</td>\n    </tr>\n    <tr>\n      <th>7</th>\n      <td>Antigua &amp; Barbuda</td>\n      <td>LATIN AMER. &amp; CARIB</td>\n      <td>69108</td>\n      <td>443</td>\n      <td>156,0</td>\n      <td>34,54</td>\n      <td>-6,15</td>\n      <td>19,46</td>\n      <td>11000.0</td>\n      <td>89,0</td>\n      <td>549,9</td>\n      <td>18,18</td>\n      <td>4,55</td>\n      <td>77,27</td>\n      <td>2</td>\n      <td>16,93</td>\n      <td>5,37</td>\n      <td>0,038</td>\n      <td>0,22</td>\n      <td>0,743</td>\n    </tr>\n    <tr>\n      <th>8</th>\n      <td>Argentina</td>\n      <td>LATIN AMER. &amp; CARIB</td>\n      <td>39921833</td>\n      <td>2766890</td>\n      <td>14,4</td>\n      <td>0,18</td>\n      <td>0,61</td>\n      <td>15,18</td>\n      <td>11200.0</td>\n      <td>97,1</td>\n      <td>220,4</td>\n      <td>12,31</td>\n      <td>0,48</td>\n      <td>87,21</td>\n      <td>3</td>\n      <td>16,73</td>\n      <td>7,55</td>\n      <td>0,095</td>\n      <td>0,358</td>\n      <td>0,547</td>\n    </tr>\n    <tr>\n      <th>9</th>\n      <td>Armenia</td>\n      <td>C.W. OF IND. STATES</td>\n      <td>2976372</td>\n      <td>29800</td>\n      <td>99,9</td>\n      <td>0,00</td>\n      <td>-6,47</td>\n      <td>23,28</td>\n      <td>3500.0</td>\n      <td>98,6</td>\n      <td>195,7</td>\n      <td>17,55</td>\n      <td>2,3</td>\n      <td>80,15</td>\n      <td>4</td>\n      <td>12,07</td>\n      <td>8,23</td>\n      <td>0,239</td>\n      <td>0,343</td>\n      <td>0,418</td>\n    </tr>\n    <tr>\n      <th>10</th>\n      <td>Aruba</td>\n      <td>LATIN AMER. &amp; CARIB</td>\n      <td>71891</td>\n      <td>193</td>\n      <td>372,5</td>\n      <td>35,49</td>\n      <td>0</td>\n      <td>5,89</td>\n      <td>28000.0</td>\n      <td>97,0</td>\n      <td>516,1</td>\n      <td>10,53</td>\n      <td>0</td>\n      <td>89,47</td>\n      <td>2</td>\n      <td>11,03</td>\n      <td>6,68</td>\n      <td>0,004</td>\n      <td>0,333</td>\n      <td>0,663</td>\n    </tr>\n    <tr>\n      <th>11</th>\n      <td>Australia</td>\n      <td>OCEANIA</td>\n      <td>20264082</td>\n      <td>7686850</td>\n      <td>2,6</td>\n      <td>0,34</td>\n      <td>3,98</td>\n      <td>4,69</td>\n      <td>29000.0</td>\n      <td>100,0</td>\n      <td>565,5</td>\n      <td>6,55</td>\n      <td>0,04</td>\n      <td>93,41</td>\n      <td>1</td>\n      <td>12,14</td>\n      <td>7,51</td>\n      <td>0,038</td>\n      <td>0,262</td>\n      <td>0,7</td>\n    </tr>\n    <tr>\n      <th>12</th>\n      <td>Austria</td>\n      <td>WESTERN EUROPE</td>\n      <td>8192880</td>\n      <td>83870</td>\n      <td>97,7</td>\n      <td>0,00</td>\n      <td>2</td>\n      <td>4,66</td>\n      <td>30000.0</td>\n      <td>98,0</td>\n      <td>452,2</td>\n      <td>16,91</td>\n      <td>0,86</td>\n      <td>82,23</td>\n      <td>3</td>\n      <td>8,74</td>\n      <td>9,76</td>\n      <td>0,018</td>\n      <td>0,304</td>\n      <td>0,678</td>\n    </tr>\n    <tr>\n      <th>13</th>\n      <td>Azerbaijan</td>\n      <td>C.W. OF IND. STATES</td>\n      <td>7961619</td>\n      <td>86600</td>\n      <td>91,9</td>\n      <td>0,00</td>\n      <td>-4,9</td>\n      <td>81,74</td>\n      <td>3400.0</td>\n      <td>97,0</td>\n      <td>137,1</td>\n      <td>19,63</td>\n      <td>2,71</td>\n      <td>77,66</td>\n      <td>1</td>\n      <td>20,74</td>\n      <td>9,75</td>\n      <td>0,141</td>\n      <td>0,457</td>\n      <td>0,402</td>\n    </tr>\n    <tr>\n      <th>14</th>\n      <td>Bahamas, The</td>\n      <td>LATIN AMER. &amp; CARIB</td>\n      <td>303770</td>\n      <td>13940</td>\n      <td>21,8</td>\n      <td>25,41</td>\n      <td>-2,2</td>\n      <td>25,21</td>\n      <td>16700.0</td>\n      <td>95,6</td>\n      <td>460,6</td>\n      <td>0,8</td>\n      <td>0,4</td>\n      <td>98,8</td>\n      <td>2</td>\n      <td>17,57</td>\n      <td>9,05</td>\n      <td>0,03</td>\n      <td>0,07</td>\n      <td>0,9</td>\n    </tr>\n    <tr>\n      <th>15</th>\n      <td>Bahrain</td>\n      <td>NEAR EAST</td>\n      <td>698585</td>\n      <td>665</td>\n      <td>1050,5</td>\n      <td>24,21</td>\n      <td>1,05</td>\n      <td>17,27</td>\n      <td>16900.0</td>\n      <td>89,1</td>\n      <td>281,3</td>\n      <td>2,82</td>\n      <td>5,63</td>\n      <td>91,55</td>\n      <td>1</td>\n      <td>17,8</td>\n      <td>4,14</td>\n      <td>0,005</td>\n      <td>0,387</td>\n      <td>0,608</td>\n    </tr>\n    <tr>\n      <th>16</th>\n      <td>Bangladesh</td>\n      <td>ASIA (EX. NEAR EAST)</td>\n      <td>147365352</td>\n      <td>144000</td>\n      <td>1023,4</td>\n      <td>0,40</td>\n      <td>-0,71</td>\n      <td>62,6</td>\n      <td>1900.0</td>\n      <td>43,1</td>\n      <td>7,3</td>\n      <td>62,11</td>\n      <td>3,07</td>\n      <td>34,82</td>\n      <td>2</td>\n      <td>29,8</td>\n      <td>8,27</td>\n      <td>0,199</td>\n      <td>0,198</td>\n      <td>0,603</td>\n    </tr>\n    <tr>\n      <th>17</th>\n      <td>Barbados</td>\n      <td>LATIN AMER. &amp; CARIB</td>\n      <td>279912</td>\n      <td>431</td>\n      <td>649,5</td>\n      <td>22,51</td>\n      <td>-0,31</td>\n      <td>12,5</td>\n      <td>15700.0</td>\n      <td>97,4</td>\n      <td>481,9</td>\n      <td>37,21</td>\n      <td>2,33</td>\n      <td>60,46</td>\n      <td>2</td>\n      <td>12,71</td>\n      <td>8,67</td>\n      <td>0,06</td>\n      <td>0,16</td>\n      <td>0,78</td>\n    </tr>\n    <tr>\n      <th>18</th>\n      <td>Belarus</td>\n      <td>C.W. OF IND. STATES</td>\n      <td>10293011</td>\n      <td>207600</td>\n      <td>49,6</td>\n      <td>0,00</td>\n      <td>2,54</td>\n      <td>13,37</td>\n      <td>6100.0</td>\n      <td>99,6</td>\n      <td>319,1</td>\n      <td>29,55</td>\n      <td>0,6</td>\n      <td>69,85</td>\n      <td>4</td>\n      <td>11,16</td>\n      <td>14,02</td>\n      <td>0,093</td>\n      <td>0,316</td>\n      <td>0,591</td>\n    </tr>\n    <tr>\n      <th>19</th>\n      <td>Belgium</td>\n      <td>WESTERN EUROPE</td>\n      <td>10379067</td>\n      <td>30528</td>\n      <td>340,0</td>\n      <td>0,22</td>\n      <td>1,23</td>\n      <td>4,68</td>\n      <td>29100.0</td>\n      <td>98,0</td>\n      <td>462,6</td>\n      <td>23,28</td>\n      <td>0,4</td>\n      <td>76,32</td>\n      <td>3</td>\n      <td>10,38</td>\n      <td>10,27</td>\n      <td>0,01</td>\n      <td>0,24</td>\n      <td>0,749</td>\n    </tr>\n  </tbody>\n</table>\n</div>"
     },
     "metadata": {},
     "execution_count": 28
    }
   ],
   "source": [
    "new_column_names = [\n",
    "    \"Country\", \"Region\", \"Population\", \"Area\", \"Pop_density\", \"Coastline_ratio\",\n",
    "    \"Net_migration\", \"Infant_mortality\", \"GDP\", \"Literacy\", \"Phones_per_1000\",\n",
    "    \"Arable\", \"Crops\", \"Other\", \"Climate\", \"Birthrate\", \"Deathrate\", \"Agriculture\",\n",
    "    \"Industry\", \"Service\"\n",
    "]\n",
    "\n",
    "countries.columns = new_column_names\n",
    "\n",
    "countries.head(20)"
   ]
  },
  {
   "cell_type": "markdown",
   "metadata": {},
   "source": [
    "## Observações\n",
    "\n",
    "Esse _data set_ ainda precisa de alguns ajustes iniciais. Primeiro, note que as variáveis numéricas estão usando vírgula como separador decimal e estão codificadas como strings. Corrija isso antes de continuar: transforme essas variáveis em numéricas adequadamente.\n",
    "\n",
    "Além disso, as variáveis `Country` e `Region` possuem espaços a mais no começo e no final da string. Você pode utilizar o método `str.strip()` para remover esses espaços."
   ]
  },
  {
   "cell_type": "markdown",
   "metadata": {},
   "source": [
    "## Inicia sua análise a partir daqui"
   ]
  },
  {
   "cell_type": "code",
   "execution_count": 30,
   "metadata": {},
   "outputs": [
    {
     "output_type": "execute_result",
     "data": {
      "text/plain": "               Country                               Region  Population  \\\n0         Afghanistan         ASIA (EX. NEAR EAST)             31056997   \n1             Albania   EASTERN EUROPE                          3581655   \n2             Algeria   NORTHERN AFRICA                        32930091   \n3      American Samoa   OCEANIA                                   57794   \n4             Andorra   WESTERN EUROPE                            71201   \n5              Angola   SUB-SAHARAN AFRICA                     12127071   \n6            Anguilla               LATIN AMER. & CARIB           13477   \n7   Antigua & Barbuda               LATIN AMER. & CARIB           69108   \n8           Argentina               LATIN AMER. & CARIB        39921833   \n9             Armenia                  C.W. OF IND. STATES      2976372   \n10              Aruba               LATIN AMER. & CARIB           71891   \n11          Australia   OCEANIA                                20264082   \n12            Austria   WESTERN EUROPE                          8192880   \n13         Azerbaijan                  C.W. OF IND. STATES      7961619   \n14       Bahamas, The               LATIN AMER. & CARIB          303770   \n15            Bahrain   NEAR EAST                                698585   \n16         Bangladesh         ASIA (EX. NEAR EAST)            147365352   \n17           Barbados               LATIN AMER. & CARIB          279912   \n18            Belarus                  C.W. OF IND. STATES     10293011   \n19            Belgium   WESTERN EUROPE                         10379067   \n\n       Area  Pop_density  Coastline_ratio  Net_migration  Infant_mortality  \\\n0    647500         48.0             0.00          23.06            163.07   \n1     28748        124.6             1.26          -4.93             21.52   \n2   2381740         13.8             0.04          -0.39             31.00   \n3       199        290.4            58.29         -20.71              9.27   \n4       468        152.1             0.00           6.60              4.05   \n5   1246700          9.7             0.13           0.00            191.19   \n6       102        132.1            59.80          10.76             21.03   \n7       443        156.0            34.54          -6.15             19.46   \n8   2766890         14.4             0.18           0.61             15.18   \n9     29800         99.9             0.00          -6.47             23.28   \n10      193        372.5            35.49           0.00              5.89   \n11  7686850          2.6             0.34           3.98              4.69   \n12    83870         97.7             0.00           2.00              4.66   \n13    86600         91.9             0.00          -4.90             81.74   \n14    13940         21.8            25.41          -2.20             25.21   \n15      665       1050.5            24.21           1.05             17.27   \n16   144000       1023.4             0.40          -0.71             62.60   \n17      431        649.5            22.51          -0.31             12.50   \n18   207600         49.6             0.00           2.54             13.37   \n19    30528        340.0             0.22           1.23              4.68   \n\n        GDP  Literacy  Phones_per_1000  Arable  Crops   Other  Climate  \\\n0     700.0      36.0              3.2   12.13   0.22   87.65      1.0   \n1    4500.0      86.5             71.2   21.09   4.42   74.49      3.0   \n2    6000.0      70.0             78.1    3.22   0.25   96.53      1.0   \n3    8000.0      97.0            259.5   10.00  15.00   75.00      2.0   \n4   19000.0     100.0            497.2    2.22   0.00   97.78      3.0   \n5    1900.0      42.0              7.8    2.41   0.24   97.35      NaN   \n6    8600.0      95.0            460.0    0.00   0.00  100.00      2.0   \n7   11000.0      89.0            549.9   18.18   4.55   77.27      2.0   \n8   11200.0      97.1            220.4   12.31   0.48   87.21      3.0   \n9    3500.0      98.6            195.7   17.55   2.30   80.15      4.0   \n10  28000.0      97.0            516.1   10.53   0.00   89.47      2.0   \n11  29000.0     100.0            565.5    6.55   0.04   93.41      1.0   \n12  30000.0      98.0            452.2   16.91   0.86   82.23      3.0   \n13   3400.0      97.0            137.1   19.63   2.71   77.66      1.0   \n14  16700.0      95.6            460.6    0.80   0.40   98.80      2.0   \n15  16900.0      89.1            281.3    2.82   5.63   91.55      1.0   \n16   1900.0      43.1              7.3   62.11   3.07   34.82      2.0   \n17  15700.0      97.4            481.9   37.21   2.33   60.46      2.0   \n18   6100.0      99.6            319.1   29.55   0.60   69.85      4.0   \n19  29100.0      98.0            462.6   23.28   0.40   76.32      3.0   \n\n    Birthrate  Deathrate  Agriculture  Industry  Service  \n0       46.60      20.34        0.380     0.240    0.380  \n1       15.11       5.22        0.232     0.188    0.579  \n2       17.14       4.61        0.101     0.600    0.298  \n3       22.46       3.27          NaN       NaN      NaN  \n4        8.71       6.25          NaN       NaN      NaN  \n5       45.11      24.20        0.096     0.658    0.246  \n6       14.17       5.34        0.040     0.180    0.780  \n7       16.93       5.37        0.038     0.220    0.743  \n8       16.73       7.55        0.095     0.358    0.547  \n9       12.07       8.23        0.239     0.343    0.418  \n10      11.03       6.68        0.004     0.333    0.663  \n11      12.14       7.51        0.038     0.262    0.700  \n12       8.74       9.76        0.018     0.304    0.678  \n13      20.74       9.75        0.141     0.457    0.402  \n14      17.57       9.05        0.030     0.070    0.900  \n15      17.80       4.14        0.005     0.387    0.608  \n16      29.80       8.27        0.199     0.198    0.603  \n17      12.71       8.67        0.060     0.160    0.780  \n18      11.16      14.02        0.093     0.316    0.591  \n19      10.38      10.27        0.010     0.240    0.749  ",
      "text/html": "<div>\n<style scoped>\n    .dataframe tbody tr th:only-of-type {\n        vertical-align: middle;\n    }\n\n    .dataframe tbody tr th {\n        vertical-align: top;\n    }\n\n    .dataframe thead th {\n        text-align: right;\n    }\n</style>\n<table border=\"1\" class=\"dataframe\">\n  <thead>\n    <tr style=\"text-align: right;\">\n      <th></th>\n      <th>Country</th>\n      <th>Region</th>\n      <th>Population</th>\n      <th>Area</th>\n      <th>Pop_density</th>\n      <th>Coastline_ratio</th>\n      <th>Net_migration</th>\n      <th>Infant_mortality</th>\n      <th>GDP</th>\n      <th>Literacy</th>\n      <th>Phones_per_1000</th>\n      <th>Arable</th>\n      <th>Crops</th>\n      <th>Other</th>\n      <th>Climate</th>\n      <th>Birthrate</th>\n      <th>Deathrate</th>\n      <th>Agriculture</th>\n      <th>Industry</th>\n      <th>Service</th>\n    </tr>\n  </thead>\n  <tbody>\n    <tr>\n      <th>0</th>\n      <td>Afghanistan</td>\n      <td>ASIA (EX. NEAR EAST)</td>\n      <td>31056997</td>\n      <td>647500</td>\n      <td>48.0</td>\n      <td>0.00</td>\n      <td>23.06</td>\n      <td>163.07</td>\n      <td>700.0</td>\n      <td>36.0</td>\n      <td>3.2</td>\n      <td>12.13</td>\n      <td>0.22</td>\n      <td>87.65</td>\n      <td>1.0</td>\n      <td>46.60</td>\n      <td>20.34</td>\n      <td>0.380</td>\n      <td>0.240</td>\n      <td>0.380</td>\n    </tr>\n    <tr>\n      <th>1</th>\n      <td>Albania</td>\n      <td>EASTERN EUROPE</td>\n      <td>3581655</td>\n      <td>28748</td>\n      <td>124.6</td>\n      <td>1.26</td>\n      <td>-4.93</td>\n      <td>21.52</td>\n      <td>4500.0</td>\n      <td>86.5</td>\n      <td>71.2</td>\n      <td>21.09</td>\n      <td>4.42</td>\n      <td>74.49</td>\n      <td>3.0</td>\n      <td>15.11</td>\n      <td>5.22</td>\n      <td>0.232</td>\n      <td>0.188</td>\n      <td>0.579</td>\n    </tr>\n    <tr>\n      <th>2</th>\n      <td>Algeria</td>\n      <td>NORTHERN AFRICA</td>\n      <td>32930091</td>\n      <td>2381740</td>\n      <td>13.8</td>\n      <td>0.04</td>\n      <td>-0.39</td>\n      <td>31.00</td>\n      <td>6000.0</td>\n      <td>70.0</td>\n      <td>78.1</td>\n      <td>3.22</td>\n      <td>0.25</td>\n      <td>96.53</td>\n      <td>1.0</td>\n      <td>17.14</td>\n      <td>4.61</td>\n      <td>0.101</td>\n      <td>0.600</td>\n      <td>0.298</td>\n    </tr>\n    <tr>\n      <th>3</th>\n      <td>American Samoa</td>\n      <td>OCEANIA</td>\n      <td>57794</td>\n      <td>199</td>\n      <td>290.4</td>\n      <td>58.29</td>\n      <td>-20.71</td>\n      <td>9.27</td>\n      <td>8000.0</td>\n      <td>97.0</td>\n      <td>259.5</td>\n      <td>10.00</td>\n      <td>15.00</td>\n      <td>75.00</td>\n      <td>2.0</td>\n      <td>22.46</td>\n      <td>3.27</td>\n      <td>NaN</td>\n      <td>NaN</td>\n      <td>NaN</td>\n    </tr>\n    <tr>\n      <th>4</th>\n      <td>Andorra</td>\n      <td>WESTERN EUROPE</td>\n      <td>71201</td>\n      <td>468</td>\n      <td>152.1</td>\n      <td>0.00</td>\n      <td>6.60</td>\n      <td>4.05</td>\n      <td>19000.0</td>\n      <td>100.0</td>\n      <td>497.2</td>\n      <td>2.22</td>\n      <td>0.00</td>\n      <td>97.78</td>\n      <td>3.0</td>\n      <td>8.71</td>\n      <td>6.25</td>\n      <td>NaN</td>\n      <td>NaN</td>\n      <td>NaN</td>\n    </tr>\n    <tr>\n      <th>5</th>\n      <td>Angola</td>\n      <td>SUB-SAHARAN AFRICA</td>\n      <td>12127071</td>\n      <td>1246700</td>\n      <td>9.7</td>\n      <td>0.13</td>\n      <td>0.00</td>\n      <td>191.19</td>\n      <td>1900.0</td>\n      <td>42.0</td>\n      <td>7.8</td>\n      <td>2.41</td>\n      <td>0.24</td>\n      <td>97.35</td>\n      <td>NaN</td>\n      <td>45.11</td>\n      <td>24.20</td>\n      <td>0.096</td>\n      <td>0.658</td>\n      <td>0.246</td>\n    </tr>\n    <tr>\n      <th>6</th>\n      <td>Anguilla</td>\n      <td>LATIN AMER. &amp; CARIB</td>\n      <td>13477</td>\n      <td>102</td>\n      <td>132.1</td>\n      <td>59.80</td>\n      <td>10.76</td>\n      <td>21.03</td>\n      <td>8600.0</td>\n      <td>95.0</td>\n      <td>460.0</td>\n      <td>0.00</td>\n      <td>0.00</td>\n      <td>100.00</td>\n      <td>2.0</td>\n      <td>14.17</td>\n      <td>5.34</td>\n      <td>0.040</td>\n      <td>0.180</td>\n      <td>0.780</td>\n    </tr>\n    <tr>\n      <th>7</th>\n      <td>Antigua &amp; Barbuda</td>\n      <td>LATIN AMER. &amp; CARIB</td>\n      <td>69108</td>\n      <td>443</td>\n      <td>156.0</td>\n      <td>34.54</td>\n      <td>-6.15</td>\n      <td>19.46</td>\n      <td>11000.0</td>\n      <td>89.0</td>\n      <td>549.9</td>\n      <td>18.18</td>\n      <td>4.55</td>\n      <td>77.27</td>\n      <td>2.0</td>\n      <td>16.93</td>\n      <td>5.37</td>\n      <td>0.038</td>\n      <td>0.220</td>\n      <td>0.743</td>\n    </tr>\n    <tr>\n      <th>8</th>\n      <td>Argentina</td>\n      <td>LATIN AMER. &amp; CARIB</td>\n      <td>39921833</td>\n      <td>2766890</td>\n      <td>14.4</td>\n      <td>0.18</td>\n      <td>0.61</td>\n      <td>15.18</td>\n      <td>11200.0</td>\n      <td>97.1</td>\n      <td>220.4</td>\n      <td>12.31</td>\n      <td>0.48</td>\n      <td>87.21</td>\n      <td>3.0</td>\n      <td>16.73</td>\n      <td>7.55</td>\n      <td>0.095</td>\n      <td>0.358</td>\n      <td>0.547</td>\n    </tr>\n    <tr>\n      <th>9</th>\n      <td>Armenia</td>\n      <td>C.W. OF IND. STATES</td>\n      <td>2976372</td>\n      <td>29800</td>\n      <td>99.9</td>\n      <td>0.00</td>\n      <td>-6.47</td>\n      <td>23.28</td>\n      <td>3500.0</td>\n      <td>98.6</td>\n      <td>195.7</td>\n      <td>17.55</td>\n      <td>2.30</td>\n      <td>80.15</td>\n      <td>4.0</td>\n      <td>12.07</td>\n      <td>8.23</td>\n      <td>0.239</td>\n      <td>0.343</td>\n      <td>0.418</td>\n    </tr>\n    <tr>\n      <th>10</th>\n      <td>Aruba</td>\n      <td>LATIN AMER. &amp; CARIB</td>\n      <td>71891</td>\n      <td>193</td>\n      <td>372.5</td>\n      <td>35.49</td>\n      <td>0.00</td>\n      <td>5.89</td>\n      <td>28000.0</td>\n      <td>97.0</td>\n      <td>516.1</td>\n      <td>10.53</td>\n      <td>0.00</td>\n      <td>89.47</td>\n      <td>2.0</td>\n      <td>11.03</td>\n      <td>6.68</td>\n      <td>0.004</td>\n      <td>0.333</td>\n      <td>0.663</td>\n    </tr>\n    <tr>\n      <th>11</th>\n      <td>Australia</td>\n      <td>OCEANIA</td>\n      <td>20264082</td>\n      <td>7686850</td>\n      <td>2.6</td>\n      <td>0.34</td>\n      <td>3.98</td>\n      <td>4.69</td>\n      <td>29000.0</td>\n      <td>100.0</td>\n      <td>565.5</td>\n      <td>6.55</td>\n      <td>0.04</td>\n      <td>93.41</td>\n      <td>1.0</td>\n      <td>12.14</td>\n      <td>7.51</td>\n      <td>0.038</td>\n      <td>0.262</td>\n      <td>0.700</td>\n    </tr>\n    <tr>\n      <th>12</th>\n      <td>Austria</td>\n      <td>WESTERN EUROPE</td>\n      <td>8192880</td>\n      <td>83870</td>\n      <td>97.7</td>\n      <td>0.00</td>\n      <td>2.00</td>\n      <td>4.66</td>\n      <td>30000.0</td>\n      <td>98.0</td>\n      <td>452.2</td>\n      <td>16.91</td>\n      <td>0.86</td>\n      <td>82.23</td>\n      <td>3.0</td>\n      <td>8.74</td>\n      <td>9.76</td>\n      <td>0.018</td>\n      <td>0.304</td>\n      <td>0.678</td>\n    </tr>\n    <tr>\n      <th>13</th>\n      <td>Azerbaijan</td>\n      <td>C.W. OF IND. STATES</td>\n      <td>7961619</td>\n      <td>86600</td>\n      <td>91.9</td>\n      <td>0.00</td>\n      <td>-4.90</td>\n      <td>81.74</td>\n      <td>3400.0</td>\n      <td>97.0</td>\n      <td>137.1</td>\n      <td>19.63</td>\n      <td>2.71</td>\n      <td>77.66</td>\n      <td>1.0</td>\n      <td>20.74</td>\n      <td>9.75</td>\n      <td>0.141</td>\n      <td>0.457</td>\n      <td>0.402</td>\n    </tr>\n    <tr>\n      <th>14</th>\n      <td>Bahamas, The</td>\n      <td>LATIN AMER. &amp; CARIB</td>\n      <td>303770</td>\n      <td>13940</td>\n      <td>21.8</td>\n      <td>25.41</td>\n      <td>-2.20</td>\n      <td>25.21</td>\n      <td>16700.0</td>\n      <td>95.6</td>\n      <td>460.6</td>\n      <td>0.80</td>\n      <td>0.40</td>\n      <td>98.80</td>\n      <td>2.0</td>\n      <td>17.57</td>\n      <td>9.05</td>\n      <td>0.030</td>\n      <td>0.070</td>\n      <td>0.900</td>\n    </tr>\n    <tr>\n      <th>15</th>\n      <td>Bahrain</td>\n      <td>NEAR EAST</td>\n      <td>698585</td>\n      <td>665</td>\n      <td>1050.5</td>\n      <td>24.21</td>\n      <td>1.05</td>\n      <td>17.27</td>\n      <td>16900.0</td>\n      <td>89.1</td>\n      <td>281.3</td>\n      <td>2.82</td>\n      <td>5.63</td>\n      <td>91.55</td>\n      <td>1.0</td>\n      <td>17.80</td>\n      <td>4.14</td>\n      <td>0.005</td>\n      <td>0.387</td>\n      <td>0.608</td>\n    </tr>\n    <tr>\n      <th>16</th>\n      <td>Bangladesh</td>\n      <td>ASIA (EX. NEAR EAST)</td>\n      <td>147365352</td>\n      <td>144000</td>\n      <td>1023.4</td>\n      <td>0.40</td>\n      <td>-0.71</td>\n      <td>62.60</td>\n      <td>1900.0</td>\n      <td>43.1</td>\n      <td>7.3</td>\n      <td>62.11</td>\n      <td>3.07</td>\n      <td>34.82</td>\n      <td>2.0</td>\n      <td>29.80</td>\n      <td>8.27</td>\n      <td>0.199</td>\n      <td>0.198</td>\n      <td>0.603</td>\n    </tr>\n    <tr>\n      <th>17</th>\n      <td>Barbados</td>\n      <td>LATIN AMER. &amp; CARIB</td>\n      <td>279912</td>\n      <td>431</td>\n      <td>649.5</td>\n      <td>22.51</td>\n      <td>-0.31</td>\n      <td>12.50</td>\n      <td>15700.0</td>\n      <td>97.4</td>\n      <td>481.9</td>\n      <td>37.21</td>\n      <td>2.33</td>\n      <td>60.46</td>\n      <td>2.0</td>\n      <td>12.71</td>\n      <td>8.67</td>\n      <td>0.060</td>\n      <td>0.160</td>\n      <td>0.780</td>\n    </tr>\n    <tr>\n      <th>18</th>\n      <td>Belarus</td>\n      <td>C.W. OF IND. STATES</td>\n      <td>10293011</td>\n      <td>207600</td>\n      <td>49.6</td>\n      <td>0.00</td>\n      <td>2.54</td>\n      <td>13.37</td>\n      <td>6100.0</td>\n      <td>99.6</td>\n      <td>319.1</td>\n      <td>29.55</td>\n      <td>0.60</td>\n      <td>69.85</td>\n      <td>4.0</td>\n      <td>11.16</td>\n      <td>14.02</td>\n      <td>0.093</td>\n      <td>0.316</td>\n      <td>0.591</td>\n    </tr>\n    <tr>\n      <th>19</th>\n      <td>Belgium</td>\n      <td>WESTERN EUROPE</td>\n      <td>10379067</td>\n      <td>30528</td>\n      <td>340.0</td>\n      <td>0.22</td>\n      <td>1.23</td>\n      <td>4.68</td>\n      <td>29100.0</td>\n      <td>98.0</td>\n      <td>462.6</td>\n      <td>23.28</td>\n      <td>0.40</td>\n      <td>76.32</td>\n      <td>3.0</td>\n      <td>10.38</td>\n      <td>10.27</td>\n      <td>0.010</td>\n      <td>0.240</td>\n      <td>0.749</td>\n    </tr>\n  </tbody>\n</table>\n</div>"
     },
     "metadata": {},
     "execution_count": 30
    }
   ],
   "source": [
    "countries['Region'].value_counts()\n",
    "cols = [\"Pop_density\",\"Coastline_ratio\",\"Net_migration\",\"Infant_mortality\",\"Literacy\",\"Phones_per_1000\",\"Arable\",\"Crops\",\"Other\",\"Climate\",\"Birthrate\",\"Deathrate\",\"Agriculture\",\"Industry\",\"Service\"]\n",
    "countries[cols] = countries[cols].apply(lambda x: x.str.replace(',','.').astype(float))\n",
    "countries.head(20)"
   ]
  },
  {
   "cell_type": "code",
   "execution_count": null,
   "metadata": {},
   "outputs": [],
   "source": [
    "countries.info()"
   ]
  },
  {
   "cell_type": "code",
   "execution_count": null,
   "metadata": {},
   "outputs": [],
   "source": [
    "countries.Net_migration.describe()"
   ]
  },
  {
   "cell_type": "markdown",
   "metadata": {},
   "source": [
    "## Questão 1\n",
    "\n",
    "Quais são as regiões (variável `Region`) presentes no _data set_? Retorne uma lista com as regiões únicas do _data set_ com os espaços à frente e atrás da string removidos (mas mantenha pontuação: ponto, hífen etc) e ordenadas em ordem alfabética."
   ]
  },
  {
   "cell_type": "code",
   "execution_count": null,
   "metadata": {},
   "outputs": [],
   "source": [
    "def q1():\n",
    "    df_striped = countries['Region'].str.strip()\n",
    "    return list(df_striped.sort_values().unique())\n",
    "q1()"
   ]
  },
  {
   "cell_type": "markdown",
   "metadata": {},
   "source": [
    "## Questão 2\n",
    "\n",
    "Discretizando a variável `Pop_density` em 10 intervalos com `KBinsDiscretizer`, seguindo o encode `ordinal` e estratégia `quantile`, quantos países se encontram acima do 90º percentil? Responda como um único escalar inteiro."
   ]
  },
  {
   "cell_type": "code",
   "execution_count": null,
   "metadata": {},
   "outputs": [],
   "source": [
    "def q2():\n",
    "    # Retorne aqui o resultado da questão 2.\n",
    "    pop_density = countries[\"Pop_density\"]      \n",
    "    pop_density = pop_density.values.reshape((-1,1))\n",
    "    discretizer = KBinsDiscretizer(n_bins=10, encode=\"ordinal\", strategy=\"quantile\")\n",
    "    discretizer.fit(pop_density)\n",
    "    bins = discretizer.transform(pop_density)\n",
    "        \n",
    "    return (sum(bins[:, 0] == 9))\n",
    "\n",
    "\n",
    "q2()"
   ]
  },
  {
   "cell_type": "code",
   "execution_count": null,
   "metadata": {},
   "outputs": [],
   "source": [
    "# Adicionar a moda a coluna Climate separado por regiao\n",
    "\n",
    "#region_climate = countries.groupby(['Region'])['Climate'].agg(pd.Series.mode)\n",
    "\n",
    "#countries['Climate'] = countries.groupby('Region')['Climate'].apply(lambda x: x.fillna(x.mode()[0]))\n",
    "\n",
    "#countries.head(20)"
   ]
  },
  {
   "cell_type": "markdown",
   "metadata": {},
   "source": [
    "# Questão 3\n",
    "\n",
    "Se codificarmos as variáveis `Region` e `Climate` usando _one-hot encoding_, quantos novos atributos seriam criados? Responda como um único escalar."
   ]
  },
  {
   "cell_type": "code",
   "execution_count": null,
   "metadata": {},
   "outputs": [],
   "source": [
    "def q3():\n",
    "    region_climate = countries.groupby(['Region'])['Climate'].agg(pd.Series.mode)\n",
    "\n",
    "    one_hot_encoder = OneHotEncoder(sparse=False, dtype=np.int)\n",
    "\n",
    "    course_encoded = one_hot_encoder.fit_transform(countries[[\"Region\",\"Climate\"]].fillna({'Climate': 0}))\n",
    "\n",
    "\n",
    "    return course_encoded.shape[1]\n",
    "q3()"
   ]
  },
  {
   "cell_type": "markdown",
   "metadata": {},
   "source": [
    "## Questão 4\n",
    "\n",
    "Aplique o seguinte _pipeline_:\n",
    "\n",
    "1. Preencha as variáveis do tipo `int64` e `float64` com suas respectivas medianas.\n",
    "2. Padronize essas variáveis.\n",
    "\n",
    "Após aplicado o _pipeline_ descrito acima aos dados (somente nas variáveis dos tipos especificados), aplique o mesmo _pipeline_ (ou `ColumnTransformer`) ao dado abaixo. Qual o valor da variável `Arable` após o _pipeline_? Responda como um único float arredondado para três casas decimais."
   ]
  },
  {
   "cell_type": "code",
   "execution_count": null,
   "metadata": {},
   "outputs": [],
   "source": [
    "test_country = [\n",
    "    'Test Country', 'NEAR EAST', -0.19032480757326514,\n",
    "    -0.3232636124824411, -0.04421734470810142, -0.27528113360605316,\n",
    "    0.13255850810281325, -0.8054845935643491, 1.0119784924248225,\n",
    "    0.6189182532646624, 1.0074863283776458, 0.20239896852403538,\n",
    "    -0.043678728558593366, -0.13929748680369286, 1.3163604645710438,\n",
    "    -0.3699637766938669, -0.6149300604558857, -0.854369594993175,\n",
    "    0.263445277972641, 0.5712416961268142\n",
    "]"
   ]
  },
  {
   "cell_type": "code",
   "execution_count": null,
   "metadata": {},
   "outputs": [],
   "source": [
    "def q4():\n",
    "\n",
    "    num_pipeline = Pipeline(steps=[\n",
    "    (\"imputer\", SimpleImputer(strategy=\"median\")),\n",
    "    (\"standardize\", StandardScaler())\n",
    "    ])\n",
    "\n",
    "    test_country_df = pd.DataFrame([test_country], columns = countries.columns)\n",
    "\n",
    "    cols = countries.select_dtypes(include=['float64','int64']).columns\n",
    "\n",
    "\n",
    "    columnTransformer = ColumnTransformer(transformers = [(\"numerical\", num_pipeline, cols)], n_jobs=1)\n",
    "\n",
    "    columnTransformer.fit(countries)\n",
    "\n",
    "    result = columnTransformer.transform(test_country_df)[0]\n",
    "\n",
    "    test_country_df = pd.DataFrame([result], columns = cols)\n",
    "\n",
    "    return round(test_country_df[\"Arable\"][0],3)\n",
    "\n",
    "q4()"
   ]
  },
  {
   "cell_type": "markdown",
   "metadata": {},
   "source": [
    "## Questão 5\n",
    "\n",
    "Descubra o número de _outliers_ da variável `Net_migration` segundo o método do _boxplot_, ou seja, usando a lógica:\n",
    "\n",
    "$$x \\notin [Q1 - 1.5 \\times \\text{IQR}, Q3 + 1.5 \\times \\text{IQR}] \\Rightarrow x \\text{ é outlier}$$\n",
    "\n",
    "que se encontram no grupo inferior e no grupo superior.\n",
    "\n",
    "Você deveria remover da análise as observações consideradas _outliers_ segundo esse método? Responda como uma tupla de três elementos `(outliers_abaixo, outliers_acima, removeria?)` ((int, int, bool))."
   ]
  },
  {
   "cell_type": "code",
   "execution_count": 44,
   "metadata": {},
   "outputs": [
    {
     "output_type": "stream",
     "name": "stdout",
     "text": "Faixa considerada \"normal\": (-3.8149999999999995, 3.885)\n"
    },
    {
     "output_type": "execute_result",
     "data": {
      "text/plain": "(24, 26, False)"
     },
     "metadata": {},
     "execution_count": 44
    },
    {
     "output_type": "display_data",
     "data": {
      "text/plain": "<Figure size 864x576 with 1 Axes>",
      "image/svg+xml": "<?xml version=\"1.0\" encoding=\"utf-8\" standalone=\"no\"?>\r\n<!DOCTYPE svg PUBLIC \"-//W3C//DTD SVG 1.1//EN\"\r\n  \"http://www.w3.org/Graphics/SVG/1.1/DTD/svg11.dtd\">\r\n<!-- Created with matplotlib (https://matplotlib.org/) -->\r\n<svg height=\"468.96875pt\" version=\"1.1\" viewBox=\"0 0 712.15875 468.96875\" width=\"712.15875pt\" xmlns=\"http://www.w3.org/2000/svg\" xmlns:xlink=\"http://www.w3.org/1999/xlink\">\r\n <defs>\r\n  <style type=\"text/css\">\r\n*{stroke-linecap:butt;stroke-linejoin:round;}\r\n  </style>\r\n </defs>\r\n <g id=\"figure_1\">\r\n  <g id=\"patch_1\">\r\n   <path d=\"M 0 468.96875 \r\nL 712.15875 468.96875 \r\nL 712.15875 0 \r\nL 0 0 \r\nz\r\n\" style=\"fill:#ffffff;\"/>\r\n  </g>\r\n  <g id=\"axes_1\">\r\n   <g id=\"patch_2\">\r\n    <path d=\"M 35.35875 442.08 \r\nL 704.95875 442.08 \r\nL 704.95875 7.2 \r\nL 35.35875 7.2 \r\nz\r\n\" style=\"fill:#eaeaf2;\"/>\r\n   </g>\r\n   <g id=\"matplotlib.axis_1\">\r\n    <g id=\"xtick_1\">\r\n     <g id=\"line2d_1\">\r\n      <path clip-path=\"url(#p75af975df1)\" d=\"M 370.15875 442.08 \r\nL 370.15875 7.2 \r\n\" style=\"fill:none;stroke:#ffffff;stroke-linecap:round;\"/>\r\n     </g>\r\n     <g id=\"text_1\">\r\n      <!-- Net_migration -->\r\n      <defs>\r\n       <path d=\"M 7.625 0 \r\nL 7.625 71.578125 \r\nL 17.328125 71.578125 \r\nL 54.9375 15.375 \r\nL 54.9375 71.578125 \r\nL 64.015625 71.578125 \r\nL 64.015625 0 \r\nL 54.296875 0 \r\nL 16.703125 56.25 \r\nL 16.703125 0 \r\nz\r\n\" id=\"ArialMT-78\"/>\r\n       <path d=\"M 42.09375 16.703125 \r\nL 51.171875 15.578125 \r\nQ 49.03125 7.625 43.21875 3.21875 \r\nQ 37.40625 -1.171875 28.375 -1.171875 \r\nQ 17 -1.171875 10.328125 5.828125 \r\nQ 3.65625 12.84375 3.65625 25.484375 \r\nQ 3.65625 38.578125 10.390625 45.796875 \r\nQ 17.140625 53.03125 27.875 53.03125 \r\nQ 38.28125 53.03125 44.875 45.953125 \r\nQ 51.46875 38.875 51.46875 26.03125 \r\nQ 51.46875 25.25 51.421875 23.6875 \r\nL 12.75 23.6875 \r\nQ 13.234375 15.140625 17.578125 10.59375 \r\nQ 21.921875 6.0625 28.421875 6.0625 \r\nQ 33.25 6.0625 36.671875 8.59375 \r\nQ 40.09375 11.140625 42.09375 16.703125 \r\nz\r\nM 13.234375 30.90625 \r\nL 42.1875 30.90625 \r\nQ 41.609375 37.453125 38.875 40.71875 \r\nQ 34.671875 45.796875 27.984375 45.796875 \r\nQ 21.921875 45.796875 17.796875 41.75 \r\nQ 13.671875 37.703125 13.234375 30.90625 \r\nz\r\n\" id=\"ArialMT-101\"/>\r\n       <path d=\"M 25.78125 7.859375 \r\nL 27.046875 0.09375 \r\nQ 23.34375 -0.6875 20.40625 -0.6875 \r\nQ 15.625 -0.6875 12.984375 0.828125 \r\nQ 10.359375 2.34375 9.28125 4.8125 \r\nQ 8.203125 7.28125 8.203125 15.1875 \r\nL 8.203125 45.015625 \r\nL 1.765625 45.015625 \r\nL 1.765625 51.859375 \r\nL 8.203125 51.859375 \r\nL 8.203125 64.703125 \r\nL 16.9375 69.96875 \r\nL 16.9375 51.859375 \r\nL 25.78125 51.859375 \r\nL 25.78125 45.015625 \r\nL 16.9375 45.015625 \r\nL 16.9375 14.703125 \r\nQ 16.9375 10.9375 17.40625 9.859375 \r\nQ 17.875 8.796875 18.921875 8.15625 \r\nQ 19.96875 7.515625 21.921875 7.515625 \r\nQ 23.390625 7.515625 25.78125 7.859375 \r\nz\r\n\" id=\"ArialMT-116\"/>\r\n       <path d=\"M -1.515625 -19.875 \r\nL -1.515625 -13.53125 \r\nL 56.734375 -13.53125 \r\nL 56.734375 -19.875 \r\nz\r\n\" id=\"ArialMT-95\"/>\r\n       <path d=\"M 6.59375 0 \r\nL 6.59375 51.859375 \r\nL 14.453125 51.859375 \r\nL 14.453125 44.578125 \r\nQ 16.890625 48.390625 20.9375 50.703125 \r\nQ 25 53.03125 30.171875 53.03125 \r\nQ 35.9375 53.03125 39.625 50.640625 \r\nQ 43.3125 48.25 44.828125 43.953125 \r\nQ 50.984375 53.03125 60.84375 53.03125 \r\nQ 68.5625 53.03125 72.703125 48.75 \r\nQ 76.859375 44.484375 76.859375 35.59375 \r\nL 76.859375 0 \r\nL 68.109375 0 \r\nL 68.109375 32.671875 \r\nQ 68.109375 37.9375 67.25 40.25 \r\nQ 66.40625 42.578125 64.15625 43.984375 \r\nQ 61.921875 45.40625 58.890625 45.40625 \r\nQ 53.421875 45.40625 49.796875 41.765625 \r\nQ 46.1875 38.140625 46.1875 30.125 \r\nL 46.1875 0 \r\nL 37.40625 0 \r\nL 37.40625 33.6875 \r\nQ 37.40625 39.546875 35.25 42.46875 \r\nQ 33.109375 45.40625 28.21875 45.40625 \r\nQ 24.515625 45.40625 21.359375 43.453125 \r\nQ 18.21875 41.5 16.796875 37.734375 \r\nQ 15.375 33.984375 15.375 26.90625 \r\nL 15.375 0 \r\nz\r\n\" id=\"ArialMT-109\"/>\r\n       <path d=\"M 6.640625 61.46875 \r\nL 6.640625 71.578125 \r\nL 15.4375 71.578125 \r\nL 15.4375 61.46875 \r\nz\r\nM 6.640625 0 \r\nL 6.640625 51.859375 \r\nL 15.4375 51.859375 \r\nL 15.4375 0 \r\nz\r\n\" id=\"ArialMT-105\"/>\r\n       <path d=\"M 4.984375 -4.296875 \r\nL 13.53125 -5.5625 \r\nQ 14.0625 -9.515625 16.5 -11.328125 \r\nQ 19.78125 -13.765625 25.4375 -13.765625 \r\nQ 31.546875 -13.765625 34.859375 -11.328125 \r\nQ 38.1875 -8.890625 39.359375 -4.5 \r\nQ 40.046875 -1.8125 39.984375 6.78125 \r\nQ 34.234375 0 25.640625 0 \r\nQ 14.9375 0 9.078125 7.71875 \r\nQ 3.21875 15.4375 3.21875 26.21875 \r\nQ 3.21875 33.640625 5.90625 39.90625 \r\nQ 8.59375 46.1875 13.6875 49.609375 \r\nQ 18.796875 53.03125 25.6875 53.03125 \r\nQ 34.859375 53.03125 40.828125 45.609375 \r\nL 40.828125 51.859375 \r\nL 48.921875 51.859375 \r\nL 48.921875 7.03125 \r\nQ 48.921875 -5.078125 46.453125 -10.125 \r\nQ 44 -15.1875 38.640625 -18.109375 \r\nQ 33.296875 -21.046875 25.484375 -21.046875 \r\nQ 16.21875 -21.046875 10.5 -16.875 \r\nQ 4.78125 -12.703125 4.984375 -4.296875 \r\nz\r\nM 12.25 26.859375 \r\nQ 12.25 16.65625 16.296875 11.96875 \r\nQ 20.359375 7.28125 26.46875 7.28125 \r\nQ 32.515625 7.28125 36.609375 11.9375 \r\nQ 40.71875 16.609375 40.71875 26.5625 \r\nQ 40.71875 36.078125 36.5 40.90625 \r\nQ 32.28125 45.75 26.3125 45.75 \r\nQ 20.453125 45.75 16.34375 40.984375 \r\nQ 12.25 36.234375 12.25 26.859375 \r\nz\r\n\" id=\"ArialMT-103\"/>\r\n       <path d=\"M 6.5 0 \r\nL 6.5 51.859375 \r\nL 14.40625 51.859375 \r\nL 14.40625 44 \r\nQ 17.4375 49.515625 20 51.265625 \r\nQ 22.5625 53.03125 25.640625 53.03125 \r\nQ 30.078125 53.03125 34.671875 50.203125 \r\nL 31.640625 42.046875 \r\nQ 28.421875 43.953125 25.203125 43.953125 \r\nQ 22.3125 43.953125 20.015625 42.21875 \r\nQ 17.71875 40.484375 16.75 37.40625 \r\nQ 15.28125 32.71875 15.28125 27.15625 \r\nL 15.28125 0 \r\nz\r\n\" id=\"ArialMT-114\"/>\r\n       <path d=\"M 40.4375 6.390625 \r\nQ 35.546875 2.25 31.03125 0.53125 \r\nQ 26.515625 -1.171875 21.34375 -1.171875 \r\nQ 12.796875 -1.171875 8.203125 3 \r\nQ 3.609375 7.171875 3.609375 13.671875 \r\nQ 3.609375 17.484375 5.34375 20.625 \r\nQ 7.078125 23.78125 9.890625 25.6875 \r\nQ 12.703125 27.59375 16.21875 28.5625 \r\nQ 18.796875 29.25 24.03125 29.890625 \r\nQ 34.671875 31.15625 39.703125 32.90625 \r\nQ 39.75 34.71875 39.75 35.203125 \r\nQ 39.75 40.578125 37.25 42.78125 \r\nQ 33.890625 45.75 27.25 45.75 \r\nQ 21.046875 45.75 18.09375 43.578125 \r\nQ 15.140625 41.40625 13.71875 35.890625 \r\nL 5.125 37.0625 \r\nQ 6.296875 42.578125 8.984375 45.96875 \r\nQ 11.671875 49.359375 16.75 51.1875 \r\nQ 21.828125 53.03125 28.515625 53.03125 \r\nQ 35.15625 53.03125 39.296875 51.46875 \r\nQ 43.453125 49.90625 45.40625 47.53125 \r\nQ 47.359375 45.171875 48.140625 41.546875 \r\nQ 48.578125 39.3125 48.578125 33.453125 \r\nL 48.578125 21.734375 \r\nQ 48.578125 9.46875 49.140625 6.21875 \r\nQ 49.703125 2.984375 51.375 0 \r\nL 42.1875 0 \r\nQ 40.828125 2.734375 40.4375 6.390625 \r\nz\r\nM 39.703125 26.03125 \r\nQ 34.90625 24.078125 25.34375 22.703125 \r\nQ 19.921875 21.921875 17.671875 20.9375 \r\nQ 15.4375 19.96875 14.203125 18.09375 \r\nQ 12.984375 16.21875 12.984375 13.921875 \r\nQ 12.984375 10.40625 15.640625 8.0625 \r\nQ 18.3125 5.71875 23.4375 5.71875 \r\nQ 28.515625 5.71875 32.46875 7.9375 \r\nQ 36.421875 10.15625 38.28125 14.015625 \r\nQ 39.703125 17 39.703125 22.796875 \r\nz\r\n\" id=\"ArialMT-97\"/>\r\n       <path d=\"M 3.328125 25.921875 \r\nQ 3.328125 40.328125 11.328125 47.265625 \r\nQ 18.015625 53.03125 27.640625 53.03125 \r\nQ 38.328125 53.03125 45.109375 46.015625 \r\nQ 51.90625 39.015625 51.90625 26.65625 \r\nQ 51.90625 16.65625 48.90625 10.90625 \r\nQ 45.90625 5.171875 40.15625 2 \r\nQ 34.421875 -1.171875 27.640625 -1.171875 \r\nQ 16.75 -1.171875 10.03125 5.8125 \r\nQ 3.328125 12.796875 3.328125 25.921875 \r\nz\r\nM 12.359375 25.921875 \r\nQ 12.359375 15.96875 16.703125 11.015625 \r\nQ 21.046875 6.0625 27.640625 6.0625 \r\nQ 34.1875 6.0625 38.53125 11.03125 \r\nQ 42.875 16.015625 42.875 26.21875 \r\nQ 42.875 35.84375 38.5 40.796875 \r\nQ 34.125 45.75 27.640625 45.75 \r\nQ 21.046875 45.75 16.703125 40.8125 \r\nQ 12.359375 35.890625 12.359375 25.921875 \r\nz\r\n\" id=\"ArialMT-111\"/>\r\n       <path d=\"M 6.59375 0 \r\nL 6.59375 51.859375 \r\nL 14.5 51.859375 \r\nL 14.5 44.484375 \r\nQ 20.21875 53.03125 31 53.03125 \r\nQ 35.6875 53.03125 39.625 51.34375 \r\nQ 43.5625 49.65625 45.515625 46.921875 \r\nQ 47.46875 44.1875 48.25 40.4375 \r\nQ 48.734375 37.984375 48.734375 31.890625 \r\nL 48.734375 0 \r\nL 39.9375 0 \r\nL 39.9375 31.546875 \r\nQ 39.9375 36.921875 38.90625 39.578125 \r\nQ 37.890625 42.234375 35.28125 43.8125 \r\nQ 32.671875 45.40625 29.15625 45.40625 \r\nQ 23.53125 45.40625 19.453125 41.84375 \r\nQ 15.375 38.28125 15.375 28.328125 \r\nL 15.375 0 \r\nz\r\n\" id=\"ArialMT-110\"/>\r\n      </defs>\r\n      <g style=\"fill:#262626;\" transform=\"translate(335.922969 459.453594)scale(0.11 -0.11)\">\r\n       <use xlink:href=\"#ArialMT-78\"/>\r\n       <use x=\"72.216797\" xlink:href=\"#ArialMT-101\"/>\r\n       <use x=\"127.832031\" xlink:href=\"#ArialMT-116\"/>\r\n       <use x=\"155.615234\" xlink:href=\"#ArialMT-95\"/>\r\n       <use x=\"211.230469\" xlink:href=\"#ArialMT-109\"/>\r\n       <use x=\"294.53125\" xlink:href=\"#ArialMT-105\"/>\r\n       <use x=\"316.748047\" xlink:href=\"#ArialMT-103\"/>\r\n       <use x=\"372.363281\" xlink:href=\"#ArialMT-114\"/>\r\n       <use x=\"405.664062\" xlink:href=\"#ArialMT-97\"/>\r\n       <use x=\"461.279297\" xlink:href=\"#ArialMT-116\"/>\r\n       <use x=\"489.0625\" xlink:href=\"#ArialMT-105\"/>\r\n       <use x=\"511.279297\" xlink:href=\"#ArialMT-111\"/>\r\n       <use x=\"566.894531\" xlink:href=\"#ArialMT-110\"/>\r\n      </g>\r\n     </g>\r\n    </g>\r\n   </g>\r\n   <g id=\"matplotlib.axis_2\">\r\n    <g id=\"ytick_1\">\r\n     <g id=\"line2d_2\">\r\n      <path clip-path=\"url(#p75af975df1)\" d=\"M 35.35875 413.427551 \r\nL 704.95875 413.427551 \r\n\" style=\"fill:none;stroke:#ffffff;stroke-linecap:round;\"/>\r\n     </g>\r\n     <g id=\"text_2\">\r\n      <!-- −20 -->\r\n      <defs>\r\n       <path d=\"M 52.828125 31.203125 \r\nL 5.5625 31.203125 \r\nL 5.5625 39.40625 \r\nL 52.828125 39.40625 \r\nz\r\n\" id=\"ArialMT-8722\"/>\r\n       <path d=\"M 50.34375 8.453125 \r\nL 50.34375 0 \r\nL 3.03125 0 \r\nQ 2.9375 3.171875 4.046875 6.109375 \r\nQ 5.859375 10.9375 9.828125 15.625 \r\nQ 13.8125 20.3125 21.34375 26.46875 \r\nQ 33.015625 36.03125 37.109375 41.625 \r\nQ 41.21875 47.21875 41.21875 52.203125 \r\nQ 41.21875 57.421875 37.46875 61 \r\nQ 33.734375 64.59375 27.734375 64.59375 \r\nQ 21.390625 64.59375 17.578125 60.78125 \r\nQ 13.765625 56.984375 13.71875 50.25 \r\nL 4.6875 51.171875 \r\nQ 5.609375 61.28125 11.65625 66.578125 \r\nQ 17.71875 71.875 27.9375 71.875 \r\nQ 38.234375 71.875 44.234375 66.15625 \r\nQ 50.25 60.453125 50.25 52 \r\nQ 50.25 47.703125 48.484375 43.546875 \r\nQ 46.734375 39.40625 42.65625 34.8125 \r\nQ 38.578125 30.21875 29.109375 22.21875 \r\nQ 21.1875 15.578125 18.9375 13.203125 \r\nQ 16.703125 10.84375 15.234375 8.453125 \r\nz\r\n\" id=\"ArialMT-50\"/>\r\n       <path d=\"M 4.15625 35.296875 \r\nQ 4.15625 48 6.765625 55.734375 \r\nQ 9.375 63.484375 14.515625 67.671875 \r\nQ 19.671875 71.875 27.484375 71.875 \r\nQ 33.25 71.875 37.59375 69.546875 \r\nQ 41.9375 67.234375 44.765625 62.859375 \r\nQ 47.609375 58.5 49.21875 52.21875 \r\nQ 50.828125 45.953125 50.828125 35.296875 \r\nQ 50.828125 22.703125 48.234375 14.96875 \r\nQ 45.65625 7.234375 40.5 3 \r\nQ 35.359375 -1.21875 27.484375 -1.21875 \r\nQ 17.140625 -1.21875 11.234375 6.203125 \r\nQ 4.15625 15.140625 4.15625 35.296875 \r\nz\r\nM 13.1875 35.296875 \r\nQ 13.1875 17.671875 17.3125 11.828125 \r\nQ 21.4375 6 27.484375 6 \r\nQ 33.546875 6 37.671875 11.859375 \r\nQ 41.796875 17.71875 41.796875 35.296875 \r\nQ 41.796875 52.984375 37.671875 58.78125 \r\nQ 33.546875 64.59375 27.390625 64.59375 \r\nQ 21.34375 64.59375 17.71875 59.46875 \r\nQ 13.1875 52.9375 13.1875 35.296875 \r\nz\r\n\" id=\"ArialMT-48\"/>\r\n      </defs>\r\n      <g style=\"fill:#262626;\" transform=\"translate(7.2 417.364348)scale(0.11 -0.11)\">\r\n       <use xlink:href=\"#ArialMT-8722\"/>\r\n       <use x=\"58.398438\" xlink:href=\"#ArialMT-50\"/>\r\n       <use x=\"114.013672\" xlink:href=\"#ArialMT-48\"/>\r\n      </g>\r\n     </g>\r\n    </g>\r\n    <g id=\"ytick_2\">\r\n     <g id=\"line2d_3\">\r\n      <path clip-path=\"url(#p75af975df1)\" d=\"M 35.35875 323.678299 \r\nL 704.95875 323.678299 \r\n\" style=\"fill:none;stroke:#ffffff;stroke-linecap:round;\"/>\r\n     </g>\r\n     <g id=\"text_3\">\r\n      <!-- −10 -->\r\n      <defs>\r\n       <path d=\"M 37.25 0 \r\nL 28.46875 0 \r\nL 28.46875 56 \r\nQ 25.296875 52.984375 20.140625 49.953125 \r\nQ 14.984375 46.921875 10.890625 45.40625 \r\nL 10.890625 53.90625 \r\nQ 18.265625 57.375 23.78125 62.296875 \r\nQ 29.296875 67.234375 31.59375 71.875 \r\nL 37.25 71.875 \r\nz\r\n\" id=\"ArialMT-49\"/>\r\n      </defs>\r\n      <g style=\"fill:#262626;\" transform=\"translate(7.2 327.615096)scale(0.11 -0.11)\">\r\n       <use xlink:href=\"#ArialMT-8722\"/>\r\n       <use x=\"58.398438\" xlink:href=\"#ArialMT-49\"/>\r\n       <use x=\"114.013672\" xlink:href=\"#ArialMT-48\"/>\r\n      </g>\r\n     </g>\r\n    </g>\r\n    <g id=\"ytick_3\">\r\n     <g id=\"line2d_4\">\r\n      <path clip-path=\"url(#p75af975df1)\" d=\"M 35.35875 233.929048 \r\nL 704.95875 233.929048 \r\n\" style=\"fill:none;stroke:#ffffff;stroke-linecap:round;\"/>\r\n     </g>\r\n     <g id=\"text_4\">\r\n      <!-- 0 -->\r\n      <g style=\"fill:#262626;\" transform=\"translate(19.741719 237.865844)scale(0.11 -0.11)\">\r\n       <use xlink:href=\"#ArialMT-48\"/>\r\n      </g>\r\n     </g>\r\n    </g>\r\n    <g id=\"ytick_4\">\r\n     <g id=\"line2d_5\">\r\n      <path clip-path=\"url(#p75af975df1)\" d=\"M 35.35875 144.179796 \r\nL 704.95875 144.179796 \r\n\" style=\"fill:none;stroke:#ffffff;stroke-linecap:round;\"/>\r\n     </g>\r\n     <g id=\"text_5\">\r\n      <!-- 10 -->\r\n      <g style=\"fill:#262626;\" transform=\"translate(13.624688 148.116593)scale(0.11 -0.11)\">\r\n       <use xlink:href=\"#ArialMT-49\"/>\r\n       <use x=\"55.615234\" xlink:href=\"#ArialMT-48\"/>\r\n      </g>\r\n     </g>\r\n    </g>\r\n    <g id=\"ytick_5\">\r\n     <g id=\"line2d_6\">\r\n      <path clip-path=\"url(#p75af975df1)\" d=\"M 35.35875 54.430544 \r\nL 704.95875 54.430544 \r\n\" style=\"fill:none;stroke:#ffffff;stroke-linecap:round;\"/>\r\n     </g>\r\n     <g id=\"text_6\">\r\n      <!-- 20 -->\r\n      <g style=\"fill:#262626;\" transform=\"translate(13.624688 58.367341)scale(0.11 -0.11)\">\r\n       <use xlink:href=\"#ArialMT-50\"/>\r\n       <use x=\"55.615234\" xlink:href=\"#ArialMT-48\"/>\r\n      </g>\r\n     </g>\r\n    </g>\r\n   </g>\r\n   <g id=\"line2d_7\">\r\n    <path clip-path=\"url(#p75af975df1)\" d=\"M 319.93875 242.253291 \r\nL 420.37875 242.253291 \r\nL 420.37875 224.97656 \r\nL 319.93875 224.97656 \r\nL 319.93875 242.253291 \r\n\" style=\"fill:none;stroke:#4c72b0;stroke-linecap:round;\"/>\r\n   </g>\r\n   <g id=\"line2d_8\">\r\n    <path clip-path=\"url(#p75af975df1)\" d=\"M 370.15875 242.253291 \r\nL 370.15875 267.495268 \r\n\" style=\"fill:none;stroke:#4c72b0;stroke-linecap:round;\"/>\r\n   </g>\r\n   <g id=\"line2d_9\">\r\n    <path clip-path=\"url(#p75af975df1)\" d=\"M 370.15875 224.97656 \r\nL 370.15875 199.465335 \r\n\" style=\"fill:none;stroke:#4c72b0;stroke-linecap:round;\"/>\r\n   </g>\r\n   <g id=\"line2d_10\">\r\n    <path clip-path=\"url(#p75af975df1)\" d=\"M 345.04875 267.495268 \r\nL 395.26875 267.495268 \r\n\" style=\"fill:none;stroke:#1a1a1a;stroke-linecap:round;\"/>\r\n   </g>\r\n   <g id=\"line2d_11\">\r\n    <path clip-path=\"url(#p75af975df1)\" d=\"M 345.04875 199.465335 \r\nL 395.26875 199.465335 \r\n\" style=\"fill:none;stroke:#1a1a1a;stroke-linecap:round;\"/>\r\n   </g>\r\n   <g id=\"line2d_12\">\r\n    <defs>\r\n     <path d=\"M 0 3 \r\nC 0.795609 3 1.55874 2.683901 2.12132 2.12132 \r\nC 2.683901 1.55874 3 0.795609 3 0 \r\nC 3 -0.795609 2.683901 -1.55874 2.12132 -2.12132 \r\nC 1.55874 -2.683901 0.795609 -3 0 -3 \r\nC -0.795609 -3 -1.55874 -2.683901 -2.12132 -2.12132 \r\nC -2.683901 -1.55874 -3 -0.795609 -3 0 \r\nC -3 0.795609 -2.683901 1.55874 -2.12132 2.12132 \r\nC -1.55874 2.683901 -0.795609 3 0 3 \r\nz\r\n\" id=\"m485b897540\" style=\"stroke:#000000;\"/>\r\n    </defs>\r\n    <g clip-path=\"url(#p75af975df1)\">\r\n     <use style=\"fill-opacity:0;stroke:#000000;\" x=\"370.15875\" xlink:href=\"#m485b897540\" y=\"278.175429\"/>\r\n     <use style=\"fill-opacity:0;stroke:#000000;\" x=\"370.15875\" xlink:href=\"#m485b897540\" y=\"419.799748\"/>\r\n     <use style=\"fill-opacity:0;stroke:#000000;\" x=\"370.15875\" xlink:href=\"#m485b897540\" y=\"289.124837\"/>\r\n     <use style=\"fill-opacity:0;stroke:#000000;\" x=\"370.15875\" xlink:href=\"#m485b897540\" y=\"291.996814\"/>\r\n     <use style=\"fill-opacity:0;stroke:#000000;\" x=\"370.15875\" xlink:href=\"#m485b897540\" y=\"277.906181\"/>\r\n     <use style=\"fill-opacity:0;stroke:#000000;\" x=\"370.15875\" xlink:href=\"#m485b897540\" y=\"275.034205\"/>\r\n     <use style=\"fill-opacity:0;stroke:#000000;\" x=\"370.15875\" xlink:href=\"#m485b897540\" y=\"342.256395\"/>\r\n     <use style=\"fill-opacity:0;stroke:#000000;\" x=\"370.15875\" xlink:href=\"#m485b897540\" y=\"358.41126\"/>\r\n     <use style=\"fill-opacity:0;stroke:#000000;\" x=\"370.15875\" xlink:href=\"#m485b897540\" y=\"310.933906\"/>\r\n     <use style=\"fill-opacity:0;stroke:#000000;\" x=\"370.15875\" xlink:href=\"#m485b897540\" y=\"276.111196\"/>\r\n     <use style=\"fill-opacity:0;stroke:#000000;\" x=\"370.15875\" xlink:href=\"#m485b897540\" y=\"309.049171\"/>\r\n     <use style=\"fill-opacity:0;stroke:#000000;\" x=\"370.15875\" xlink:href=\"#m485b897540\" y=\"358.860006\"/>\r\n     <use style=\"fill-opacity:0;stroke:#000000;\" x=\"370.15875\" xlink:href=\"#m485b897540\" y=\"278.085679\"/>\r\n     <use style=\"fill-opacity:0;stroke:#000000;\" x=\"370.15875\" xlink:href=\"#m485b897540\" y=\"288.137596\"/>\r\n     <use style=\"fill-opacity:0;stroke:#000000;\" x=\"370.15875\" xlink:href=\"#m485b897540\" y=\"277.636933\"/>\r\n     <use style=\"fill-opacity:0;stroke:#000000;\" x=\"370.15875\" xlink:href=\"#m485b897540\" y=\"422.312727\"/>\r\n     <use style=\"fill-opacity:0;stroke:#000000;\" x=\"370.15875\" xlink:href=\"#m485b897540\" y=\"297.740766\"/>\r\n     <use style=\"fill-opacity:0;stroke:#000000;\" x=\"370.15875\" xlink:href=\"#m485b897540\" y=\"277.547184\"/>\r\n     <use style=\"fill-opacity:0;stroke:#000000;\" x=\"370.15875\" xlink:href=\"#m485b897540\" y=\"302.497476\"/>\r\n     <use style=\"fill-opacity:0;stroke:#000000;\" x=\"370.15875\" xlink:href=\"#m485b897540\" y=\"338.935672\"/>\r\n     <use style=\"fill-opacity:0;stroke:#000000;\" x=\"370.15875\" xlink:href=\"#m485b897540\" y=\"284.996372\"/>\r\n     <use style=\"fill-opacity:0;stroke:#000000;\" x=\"370.15875\" xlink:href=\"#m485b897540\" y=\"312.998138\"/>\r\n     <use style=\"fill-opacity:0;stroke:#000000;\" x=\"370.15875\" xlink:href=\"#m485b897540\" y=\"331.127487\"/>\r\n     <use style=\"fill-opacity:0;stroke:#000000;\" x=\"370.15875\" xlink:href=\"#m485b897540\" y=\"314.164879\"/>\r\n     <use style=\"fill-opacity:0;stroke:#000000;\" x=\"370.15875\" xlink:href=\"#m485b897540\" y=\"26.967273\"/>\r\n     <use style=\"fill-opacity:0;stroke:#000000;\" x=\"370.15875\" xlink:href=\"#m485b897540\" y=\"174.694541\"/>\r\n     <use style=\"fill-opacity:0;stroke:#000000;\" x=\"370.15875\" xlink:href=\"#m485b897540\" y=\"137.358853\"/>\r\n     <use style=\"fill-opacity:0;stroke:#000000;\" x=\"370.15875\" xlink:href=\"#m485b897540\" y=\"198.208845\"/>\r\n     <use style=\"fill-opacity:0;stroke:#000000;\" x=\"370.15875\" xlink:href=\"#m485b897540\" y=\"144.090046\"/>\r\n     <use style=\"fill-opacity:0;stroke:#000000;\" x=\"370.15875\" xlink:href=\"#m485b897540\" y=\"180.438493\"/>\r\n     <use style=\"fill-opacity:0;stroke:#000000;\" x=\"370.15875\" xlink:href=\"#m485b897540\" y=\"65.6492\"/>\r\n     <use style=\"fill-opacity:0;stroke:#000000;\" x=\"370.15875\" xlink:href=\"#m485b897540\" y=\"177.656267\"/>\r\n     <use style=\"fill-opacity:0;stroke:#000000;\" x=\"370.15875\" xlink:href=\"#m485b897540\" y=\"186.90044\"/>\r\n     <use style=\"fill-opacity:0;stroke:#000000;\" x=\"370.15875\" xlink:href=\"#m485b897540\" y=\"189.144171\"/>\r\n     <use style=\"fill-opacity:0;stroke:#000000;\" x=\"370.15875\" xlink:href=\"#m485b897540\" y=\"185.823449\"/>\r\n     <use style=\"fill-opacity:0;stroke:#000000;\" x=\"370.15875\" xlink:href=\"#m485b897540\" y=\"174.784291\"/>\r\n     <use style=\"fill-opacity:0;stroke:#000000;\" x=\"370.15875\" xlink:href=\"#m485b897540\" y=\"106.664608\"/>\r\n     <use style=\"fill-opacity:0;stroke:#000000;\" x=\"370.15875\" xlink:href=\"#m485b897540\" y=\"190.40066\"/>\r\n     <use style=\"fill-opacity:0;stroke:#000000;\" x=\"370.15875\" xlink:href=\"#m485b897540\" y=\"153.423969\"/>\r\n     <use style=\"fill-opacity:0;stroke:#000000;\" x=\"370.15875\" xlink:href=\"#m485b897540\" y=\"190.310911\"/>\r\n     <use style=\"fill-opacity:0;stroke:#000000;\" x=\"370.15875\" xlink:href=\"#m485b897540\" y=\"173.079055\"/>\r\n     <use style=\"fill-opacity:0;stroke:#000000;\" x=\"370.15875\" xlink:href=\"#m485b897540\" y=\"164.373377\"/>\r\n     <use style=\"fill-opacity:0;stroke:#000000;\" x=\"370.15875\" xlink:href=\"#m485b897540\" y=\"197.580601\"/>\r\n     <use style=\"fill-opacity:0;stroke:#000000;\" x=\"370.15875\" xlink:href=\"#m485b897540\" y=\"147.680017\"/>\r\n     <use style=\"fill-opacity:0;stroke:#000000;\" x=\"370.15875\" xlink:href=\"#m485b897540\" y=\"87.727516\"/>\r\n     <use style=\"fill-opacity:0;stroke:#000000;\" x=\"370.15875\" xlink:href=\"#m485b897540\" y=\"135.384369\"/>\r\n     <use style=\"fill-opacity:0;stroke:#000000;\" x=\"370.15875\" xlink:href=\"#m485b897540\" y=\"130.44816\"/>\r\n     <use style=\"fill-opacity:0;stroke:#000000;\" x=\"370.15875\" xlink:href=\"#m485b897540\" y=\"185.733699\"/>\r\n     <use style=\"fill-opacity:0;stroke:#000000;\" x=\"370.15875\" xlink:href=\"#m485b897540\" y=\"197.580601\"/>\r\n     <use style=\"fill-opacity:0;stroke:#000000;\" x=\"370.15875\" xlink:href=\"#m485b897540\" y=\"129.101921\"/>\r\n    </g>\r\n   </g>\r\n   <g id=\"line2d_13\">\r\n    <path clip-path=\"url(#p75af975df1)\" d=\"M 319.93875 233.929048 \r\nL 420.37875 233.929048 \r\n\" style=\"fill:none;stroke:#55a868;stroke-linecap:round;\"/>\r\n   </g>\r\n   <g id=\"patch_3\">\r\n    <path d=\"M 35.35875 442.08 \r\nL 35.35875 7.2 \r\n\" style=\"fill:none;stroke:#ffffff;stroke-linecap:square;stroke-linejoin:miter;stroke-width:1.25;\"/>\r\n   </g>\r\n   <g id=\"patch_4\">\r\n    <path d=\"M 704.95875 442.08 \r\nL 704.95875 7.2 \r\n\" style=\"fill:none;stroke:#ffffff;stroke-linecap:square;stroke-linejoin:miter;stroke-width:1.25;\"/>\r\n   </g>\r\n   <g id=\"patch_5\">\r\n    <path d=\"M 35.35875 442.08 \r\nL 704.95875 442.08 \r\n\" style=\"fill:none;stroke:#ffffff;stroke-linecap:square;stroke-linejoin:miter;stroke-width:1.25;\"/>\r\n   </g>\r\n   <g id=\"patch_6\">\r\n    <path d=\"M 35.35875 7.2 \r\nL 704.95875 7.2 \r\n\" style=\"fill:none;stroke:#ffffff;stroke-linecap:square;stroke-linejoin:miter;stroke-width:1.25;\"/>\r\n   </g>\r\n  </g>\r\n </g>\r\n <defs>\r\n  <clipPath id=\"p75af975df1\">\r\n   <rect height=\"434.88\" width=\"669.6\" x=\"35.35875\" y=\"7.2\"/>\r\n  </clipPath>\r\n </defs>\r\n</svg>\r\n",
      "image/png": "[encoded data removed]"
     },
     "metadata": {}
    }
   ],
   "source": [
    "def q5():\n",
    "\n",
    "    Net_migration = countries['Net_migration']\n",
    "\n",
    "    q1 = Net_migration.quantile(.25)\n",
    "\n",
    "    q3 = Net_migration.quantile(.75)\n",
    "    \n",
    "    iqr = q3 - q1\n",
    "    \n",
    "    outliers = (q1 - 1.5 * iqr, q3 + 1.5 * iqr)\n",
    "\n",
    "    print(f\"Faixa considerada \\\"normal\\\": {outliers}\")\n",
    "\n",
    "    outliers_abaixo = (Net_migration < outliers[0]).sum()\n",
    "\n",
    "    outliers_cima = (Net_migration > outliers[1]).sum()\n",
    "\n",
    "    remove = bool((outliers_abaixo + outliers_cima) / len(Net_migration) > 0.5)\n",
    "\n",
    "    result = (outliers_abaixo, outliers_cima, remove)\n",
    "\n",
    "    Net_migration.plot.box()\n",
    "\n",
    "    return tuple(result)\n",
    "\n",
    "\n",
    "\n",
    "q5()"
   ]
  },
  {
   "cell_type": "markdown",
   "metadata": {},
   "source": [
    "## Questão 6\n",
    "Para as questões 6 e 7 utilize a biblioteca `fetch_20newsgroups` de datasets de test do `sklearn`\n",
    "\n",
    "Considere carregar as seguintes categorias e o dataset `newsgroups`:\n",
    "\n",
    "```\n",
    "categories = ['sci.electronics', 'comp.graphics', 'rec.motorcycles']\n",
    "newsgroup = fetch_20newsgroups(subset=\"train\", categories=categories, shuffle=True, random_state=42)\n",
    "```\n",
    "\n",
    "\n",
    "Aplique `CountVectorizer` ao _data set_ `newsgroups` e descubra o número de vezes que a palavra _phone_ aparece no corpus. Responda como um único escalar."
   ]
  },
  {
   "cell_type": "code",
   "execution_count": 52,
   "metadata": {},
   "outputs": [],
   "source": [
    "from sklearn.datasets import fetch_20newsgroups\n",
    "\n",
    "categories = ['sci.electronics', 'comp.graphics', 'rec.motorcycles']\n",
    "newsgroup = fetch_20newsgroups(subset=\"train\", categories=categories, shuffle=True, random_state=42)"
   ]
  },
  {
   "cell_type": "code",
   "execution_count": 62,
   "metadata": {},
   "outputs": [
    {
     "output_type": "execute_result",
     "data": {
      "text/plain": "213"
     },
     "metadata": {},
     "execution_count": 62
    }
   ],
   "source": [
    "def q6():\n",
    "    count_vectorizer = CountVectorizer()\n",
    "    newsgroups_counts = count_vectorizer.fit_transform(newsgroup.data)\n",
    "\n",
    "    word_sum = newsgroups_counts[:,count_vectorizer.vocabulary_['phone']].sum()\n",
    "        \n",
    "    return word_sum\n",
    "\n",
    "q6()"
   ]
  },
  {
   "cell_type": "markdown",
   "metadata": {},
   "source": [
    "## Questão 7\n",
    "\n",
    "Aplique `TfidfVectorizer` ao _data set_ `newsgroups` e descubra o TF-IDF da palavra _phone_. Responda como um único escalar arredondado para três casas decimais."
   ]
  },
  {
   "cell_type": "code",
   "execution_count": 69,
   "metadata": {},
   "outputs": [
    {
     "output_type": "execute_result",
     "data": {
      "text/plain": "8.888"
     },
     "metadata": {},
     "execution_count": 69
    }
   ],
   "source": [
    "def q7():\n",
    "\n",
    "    tfidf_vectorizer = TfidfVectorizer()\n",
    "\n",
    "    tfidf_vectorizer.fit(newsgroup.data)\n",
    "\n",
    "    newsgroups_tfidf_vectorized = tfidf_vectorizer.fit_transform(newsgroup.data)\n",
    "\n",
    "    tfidf = newsgroups_tfidf_vectorized[:,tfidf_vectorizer.vocabulary_['phone']].sum()\n",
    "\n",
    "    return round(tfidf,3)\n",
    "\n",
    "q7()"
   ]
  },
  {
   "cell_type": "code",
   "execution_count": null,
   "metadata": {},
   "outputs": [],
   "source": []
  }
 ],
 "metadata": {
  "kernelspec": {
   "display_name": "Python 3",
   "language": "python",
   "name": "python3"
  },
  "language_info": {
   "codemirror_mode": {
    "name": "ipython",
    "version": 3
   },
   "file_extension": ".py",
   "mimetype": "text/x-python",
   "name": "python",
   "nbconvert_exporter": "python",
   "pygments_lexer": "ipython3",
   "version": "3.7.6-final"
  }
 },
 "nbformat": 4,
 "nbformat_minor": 2
}