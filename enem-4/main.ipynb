{
 "cells": [
  {
   "cell_type": "code",
   "execution_count": 1316,
   "metadata": {},
   "outputs": [],
   "source": [
    "import pandas as pd\n",
    "import matplotlib.pyplot as plt\n",
    "import numpy as np\n",
    "import statsmodels.api as sm\n",
    "import scipy.stats as sct\n",
    "import seaborn as sns\n",
    "from sklearn.tree import DecisionTreeClassifier, plot_tree\n",
    "from sklearn.preprocessing import (\n",
    "    OneHotEncoder, Binarizer, KBinsDiscretizer,\n",
    "    MinMaxScaler, StandardScaler, PolynomialFeatures\n",
    ")\n",
    "from sklearn.linear_model import LogisticRegression\n",
    "import operator\n",
    "from sklearn.model_selection import train_test_split"
   ]
  },
  {
   "cell_type": "code",
   "execution_count": 1317,
   "metadata": {},
   "outputs": [],
   "source": [
    "from IPython.core.pylabtools import figsize\n",
    "\n",
    "\n",
    "figsize(12, 8)\n",
    "\n",
    "sns.set()"
   ]
  },
  {
   "cell_type": "code",
   "execution_count": 1318,
   "metadata": {},
   "outputs": [],
   "source": [
    "df = pd.read_csv('train.csv')"
   ]
  },
  {
   "cell_type": "code",
   "execution_count": 1319,
   "metadata": {},
   "outputs": [
    {
     "output_type": "execute_result",
     "data": {
      "text/plain": "       Unnamed: 0                              NU_INSCRICAO  NU_ANO  \\\n0               1  ed50e8aaa58e7a806c337585efee9ca41f1eb1ad    2016   \n1               2  2c3acac4b33ec2b195d77e7c04a2d75727fad723    2016   \n2               3  f4545f8ccb9ff5c8aad7d32951b3f251a26e6568    2016   \n3               4  3d6ec248fef899c414e77f82d5c6d2bffbeaf7fe    2016   \n4               5  bf896ac8d3ecadd6dba1dfbf50110afcbf5d3268    2016   \n...           ...                                       ...     ...   \n13725        4582  aadf671ef8c1c6efa42e69432093ab83c17a52ac    2016   \n13726        4583  461f7ef2753d9d5fa0b054930d6b0e0eec318e81    2016   \n13727        4584  5354503700ecf2388f68990435390b6e1ad454ee    2016   \n13728        4585  c7a9e94a42bd76b7978f13c013a61702e36cc42c    2016   \n13729        4586  0af8939c470a600b30bdaa80375ee0db848b0e35    2016   \n\n       CO_MUNICIPIO_RESIDENCIA NO_MUNICIPIO_RESIDENCIA  CO_UF_RESIDENCIA  \\\n0                      4314902            Porto Alegre                43   \n1                      2304707                  Granja                23   \n2                      2304400               Fortaleza                23   \n3                      3304557          Rio de Janeiro                33   \n4                      1302603                  Manaus                13   \n...                        ...                     ...               ...   \n13725                  3502903      Araçoiaba da Serra                35   \n13726                  2613800      São Vicente Ferrer                26   \n13727                  4322186          Tupanci do Sul                43   \n13728                  3303203               Nilópolis                33   \n13729                  4100400     Almirante Tamandaré                41   \n\n      SG_UF_RESIDENCIA  NU_IDADE TP_SEXO  TP_ESTADO_CIVIL  ...  Q041  Q042  \\\n0                   RS        24       M              0.0  ...   5.0     A   \n1                   CE        17       F              0.0  ...   NaN     A   \n2                   CE        21       F              0.0  ...   NaN     A   \n3                   RJ        25       F              0.0  ...   5.0     C   \n4                   AM        28       M              0.0  ...   NaN     A   \n...                ...       ...     ...              ...  ...   ...   ...   \n13725               SP        20       M              0.0  ...   NaN     A   \n13726               PE        33       F              0.0  ...   NaN     A   \n13727               RS        15       F              0.0  ...   NaN     A   \n13728               RJ        36       M              1.0  ...   5.0     A   \n13729               PR        17       M              0.0  ...   NaN     A   \n\n       Q043 Q044  Q045 Q046  Q047  Q048  Q049  Q050  \n0         A    A     A    A     A     A     B     D  \n1         A    C     A    B     A     A     C     A  \n2         A    A     A    C     A     A     B     A  \n3         A    A     A    A     D     A     A     A  \n4         A    A     A    A     A     A     A     A  \n...     ...  ...   ...  ...   ...   ...   ...   ...  \n13725     A    A     A    A     A     A     A     A  \n13726     A    B     B    A     A     A     A     A  \n13727     A    A     A    C     A     A     A     A  \n13728     A    A     A    D     A     A     A     D  \n13729     A    A     A    B     A     A     A     A  \n\n[13730 rows x 167 columns]",
      "text/html": "<div>\n<style scoped>\n    .dataframe tbody tr th:only-of-type {\n        vertical-align: middle;\n    }\n\n    .dataframe tbody tr th {\n        vertical-align: top;\n    }\n\n    .dataframe thead th {\n        text-align: right;\n    }\n</style>\n<table border=\"1\" class=\"dataframe\">\n  <thead>\n    <tr style=\"text-align: right;\">\n      <th></th>\n      <th>Unnamed: 0</th>\n      <th>NU_INSCRICAO</th>\n      <th>NU_ANO</th>\n      <th>CO_MUNICIPIO_RESIDENCIA</th>\n      <th>NO_MUNICIPIO_RESIDENCIA</th>\n      <th>CO_UF_RESIDENCIA</th>\n      <th>SG_UF_RESIDENCIA</th>\n      <th>NU_IDADE</th>\n      <th>TP_SEXO</th>\n      <th>TP_ESTADO_CIVIL</th>\n      <th>...</th>\n      <th>Q041</th>\n      <th>Q042</th>\n      <th>Q043</th>\n      <th>Q044</th>\n      <th>Q045</th>\n      <th>Q046</th>\n      <th>Q047</th>\n      <th>Q048</th>\n      <th>Q049</th>\n      <th>Q050</th>\n    </tr>\n  </thead>\n  <tbody>\n    <tr>\n      <th>0</th>\n      <td>1</td>\n      <td>ed50e8aaa58e7a806c337585efee9ca41f1eb1ad</td>\n      <td>2016</td>\n      <td>4314902</td>\n      <td>Porto Alegre</td>\n      <td>43</td>\n      <td>RS</td>\n      <td>24</td>\n      <td>M</td>\n      <td>0.0</td>\n      <td>...</td>\n      <td>5.0</td>\n      <td>A</td>\n      <td>A</td>\n      <td>A</td>\n      <td>A</td>\n      <td>A</td>\n      <td>A</td>\n      <td>A</td>\n      <td>B</td>\n      <td>D</td>\n    </tr>\n    <tr>\n      <th>1</th>\n      <td>2</td>\n      <td>2c3acac4b33ec2b195d77e7c04a2d75727fad723</td>\n      <td>2016</td>\n      <td>2304707</td>\n      <td>Granja</td>\n      <td>23</td>\n      <td>CE</td>\n      <td>17</td>\n      <td>F</td>\n      <td>0.0</td>\n      <td>...</td>\n      <td>NaN</td>\n      <td>A</td>\n      <td>A</td>\n      <td>C</td>\n      <td>A</td>\n      <td>B</td>\n      <td>A</td>\n      <td>A</td>\n      <td>C</td>\n      <td>A</td>\n    </tr>\n    <tr>\n      <th>2</th>\n      <td>3</td>\n      <td>f4545f8ccb9ff5c8aad7d32951b3f251a26e6568</td>\n      <td>2016</td>\n      <td>2304400</td>\n      <td>Fortaleza</td>\n      <td>23</td>\n      <td>CE</td>\n      <td>21</td>\n      <td>F</td>\n      <td>0.0</td>\n      <td>...</td>\n      <td>NaN</td>\n      <td>A</td>\n      <td>A</td>\n      <td>A</td>\n      <td>A</td>\n      <td>C</td>\n      <td>A</td>\n      <td>A</td>\n      <td>B</td>\n      <td>A</td>\n    </tr>\n    <tr>\n      <th>3</th>\n      <td>4</td>\n      <td>3d6ec248fef899c414e77f82d5c6d2bffbeaf7fe</td>\n      <td>2016</td>\n      <td>3304557</td>\n      <td>Rio de Janeiro</td>\n      <td>33</td>\n      <td>RJ</td>\n      <td>25</td>\n      <td>F</td>\n      <td>0.0</td>\n      <td>...</td>\n      <td>5.0</td>\n      <td>C</td>\n      <td>A</td>\n      <td>A</td>\n      <td>A</td>\n      <td>A</td>\n      <td>D</td>\n      <td>A</td>\n      <td>A</td>\n      <td>A</td>\n    </tr>\n    <tr>\n      <th>4</th>\n      <td>5</td>\n      <td>bf896ac8d3ecadd6dba1dfbf50110afcbf5d3268</td>\n      <td>2016</td>\n      <td>1302603</td>\n      <td>Manaus</td>\n      <td>13</td>\n      <td>AM</td>\n      <td>28</td>\n      <td>M</td>\n      <td>0.0</td>\n      <td>...</td>\n      <td>NaN</td>\n      <td>A</td>\n      <td>A</td>\n      <td>A</td>\n      <td>A</td>\n      <td>A</td>\n      <td>A</td>\n      <td>A</td>\n      <td>A</td>\n      <td>A</td>\n    </tr>\n    <tr>\n      <th>...</th>\n      <td>...</td>\n      <td>...</td>\n      <td>...</td>\n      <td>...</td>\n      <td>...</td>\n      <td>...</td>\n      <td>...</td>\n      <td>...</td>\n      <td>...</td>\n      <td>...</td>\n      <td>...</td>\n      <td>...</td>\n      <td>...</td>\n      <td>...</td>\n      <td>...</td>\n      <td>...</td>\n      <td>...</td>\n      <td>...</td>\n      <td>...</td>\n      <td>...</td>\n      <td>...</td>\n    </tr>\n    <tr>\n      <th>13725</th>\n      <td>4582</td>\n      <td>aadf671ef8c1c6efa42e69432093ab83c17a52ac</td>\n      <td>2016</td>\n      <td>3502903</td>\n      <td>Araçoiaba da Serra</td>\n      <td>35</td>\n      <td>SP</td>\n      <td>20</td>\n      <td>M</td>\n      <td>0.0</td>\n      <td>...</td>\n      <td>NaN</td>\n      <td>A</td>\n      <td>A</td>\n      <td>A</td>\n      <td>A</td>\n      <td>A</td>\n      <td>A</td>\n      <td>A</td>\n      <td>A</td>\n      <td>A</td>\n    </tr>\n    <tr>\n      <th>13726</th>\n      <td>4583</td>\n      <td>461f7ef2753d9d5fa0b054930d6b0e0eec318e81</td>\n      <td>2016</td>\n      <td>2613800</td>\n      <td>São Vicente Ferrer</td>\n      <td>26</td>\n      <td>PE</td>\n      <td>33</td>\n      <td>F</td>\n      <td>0.0</td>\n      <td>...</td>\n      <td>NaN</td>\n      <td>A</td>\n      <td>A</td>\n      <td>B</td>\n      <td>B</td>\n      <td>A</td>\n      <td>A</td>\n      <td>A</td>\n      <td>A</td>\n      <td>A</td>\n    </tr>\n    <tr>\n      <th>13727</th>\n      <td>4584</td>\n      <td>5354503700ecf2388f68990435390b6e1ad454ee</td>\n      <td>2016</td>\n      <td>4322186</td>\n      <td>Tupanci do Sul</td>\n      <td>43</td>\n      <td>RS</td>\n      <td>15</td>\n      <td>F</td>\n      <td>0.0</td>\n      <td>...</td>\n      <td>NaN</td>\n      <td>A</td>\n      <td>A</td>\n      <td>A</td>\n      <td>A</td>\n      <td>C</td>\n      <td>A</td>\n      <td>A</td>\n      <td>A</td>\n      <td>A</td>\n    </tr>\n    <tr>\n      <th>13728</th>\n      <td>4585</td>\n      <td>c7a9e94a42bd76b7978f13c013a61702e36cc42c</td>\n      <td>2016</td>\n      <td>3303203</td>\n      <td>Nilópolis</td>\n      <td>33</td>\n      <td>RJ</td>\n      <td>36</td>\n      <td>M</td>\n      <td>1.0</td>\n      <td>...</td>\n      <td>5.0</td>\n      <td>A</td>\n      <td>A</td>\n      <td>A</td>\n      <td>A</td>\n      <td>D</td>\n      <td>A</td>\n      <td>A</td>\n      <td>A</td>\n      <td>D</td>\n    </tr>\n    <tr>\n      <th>13729</th>\n      <td>4586</td>\n      <td>0af8939c470a600b30bdaa80375ee0db848b0e35</td>\n      <td>2016</td>\n      <td>4100400</td>\n      <td>Almirante Tamandaré</td>\n      <td>41</td>\n      <td>PR</td>\n      <td>17</td>\n      <td>M</td>\n      <td>0.0</td>\n      <td>...</td>\n      <td>NaN</td>\n      <td>A</td>\n      <td>A</td>\n      <td>A</td>\n      <td>A</td>\n      <td>B</td>\n      <td>A</td>\n      <td>A</td>\n      <td>A</td>\n      <td>A</td>\n    </tr>\n  </tbody>\n</table>\n<p>13730 rows × 167 columns</p>\n</div>"
     },
     "metadata": {},
     "execution_count": 1319
    }
   ],
   "source": [
    "df"
   ]
  },
  {
   "cell_type": "code",
   "execution_count": 1320,
   "metadata": {},
   "outputs": [
    {
     "output_type": "execute_result",
     "data": {
      "text/plain": "IN_TREINEIRO       1.000000\nTP_ST_CONCLUSAO    0.533983\nTP_PRESENCA_CN     0.094692\nTP_PRESENCA_CH     0.094692\nTP_PRESENCA_LC     0.092454\nTP_PRESENCA_MT     0.092454\nName: IN_TREINEIRO, dtype: float64"
     },
     "metadata": {},
     "execution_count": 1320
    }
   ],
   "source": [
    "corr = df[df.columns[1:]].corr()['IN_TREINEIRO'][:]\n",
    "corr.sort_values(ascending=False).head(6)"
   ]
  },
  {
   "cell_type": "code",
   "execution_count": 1321,
   "metadata": {},
   "outputs": [
    {
     "output_type": "execute_result",
     "data": {
      "text/plain": "NU_IDADE          -0.295091\nTP_ANO_CONCLUIU   -0.257710\nTP_ESCOLA         -0.244562\nIN_CERTIFICADO    -0.142185\nTP_ESTADO_CIVIL   -0.117932\nName: IN_TREINEIRO, dtype: float64"
     },
     "metadata": {},
     "execution_count": 1321
    }
   ],
   "source": [
    "corr.sort_values().head()"
   ]
  },
  {
   "cell_type": "code",
   "execution_count": 1322,
   "metadata": {},
   "outputs": [
    {
     "output_type": "execute_result",
     "data": {
      "text/plain": "       TP_ST_CONCLUSAO  NU_IDADE  TP_ANO_CONCLUIU  IN_TREINEIRO\n0                    1        24                4             0\n1                    2        17                0             0\n2                    3        21                0             0\n3                    1        25                9             0\n4                    1        28                4             0\n...                ...       ...              ...           ...\n13725                1        20                3             0\n13726                1        33               10             0\n13727                3        15                0             1\n13728                4        36                0             0\n13729                2        17                0             0\n\n[13730 rows x 4 columns]",
      "text/html": "<div>\n<style scoped>\n    .dataframe tbody tr th:only-of-type {\n        vertical-align: middle;\n    }\n\n    .dataframe tbody tr th {\n        vertical-align: top;\n    }\n\n    .dataframe thead th {\n        text-align: right;\n    }\n</style>\n<table border=\"1\" class=\"dataframe\">\n  <thead>\n    <tr style=\"text-align: right;\">\n      <th></th>\n      <th>TP_ST_CONCLUSAO</th>\n      <th>NU_IDADE</th>\n      <th>TP_ANO_CONCLUIU</th>\n      <th>IN_TREINEIRO</th>\n    </tr>\n  </thead>\n  <tbody>\n    <tr>\n      <th>0</th>\n      <td>1</td>\n      <td>24</td>\n      <td>4</td>\n      <td>0</td>\n    </tr>\n    <tr>\n      <th>1</th>\n      <td>2</td>\n      <td>17</td>\n      <td>0</td>\n      <td>0</td>\n    </tr>\n    <tr>\n      <th>2</th>\n      <td>3</td>\n      <td>21</td>\n      <td>0</td>\n      <td>0</td>\n    </tr>\n    <tr>\n      <th>3</th>\n      <td>1</td>\n      <td>25</td>\n      <td>9</td>\n      <td>0</td>\n    </tr>\n    <tr>\n      <th>4</th>\n      <td>1</td>\n      <td>28</td>\n      <td>4</td>\n      <td>0</td>\n    </tr>\n    <tr>\n      <th>...</th>\n      <td>...</td>\n      <td>...</td>\n      <td>...</td>\n      <td>...</td>\n    </tr>\n    <tr>\n      <th>13725</th>\n      <td>1</td>\n      <td>20</td>\n      <td>3</td>\n      <td>0</td>\n    </tr>\n    <tr>\n      <th>13726</th>\n      <td>1</td>\n      <td>33</td>\n      <td>10</td>\n      <td>0</td>\n    </tr>\n    <tr>\n      <th>13727</th>\n      <td>3</td>\n      <td>15</td>\n      <td>0</td>\n      <td>1</td>\n    </tr>\n    <tr>\n      <th>13728</th>\n      <td>4</td>\n      <td>36</td>\n      <td>0</td>\n      <td>0</td>\n    </tr>\n    <tr>\n      <th>13729</th>\n      <td>2</td>\n      <td>17</td>\n      <td>0</td>\n      <td>0</td>\n    </tr>\n  </tbody>\n</table>\n<p>13730 rows × 4 columns</p>\n</div>"
     },
     "metadata": {},
     "execution_count": 1322
    }
   ],
   "source": [
    "columns = [\"TP_ST_CONCLUSAO\",\"NU_IDADE\",\"TP_ANO_CONCLUIU\",\"IN_TREINEIRO\"]\n",
    "\n",
    "enem_features = pd.DataFrame(df, columns=columns)\n",
    "enem_features"
   ]
  },
  {
   "cell_type": "code",
   "execution_count": 1323,
   "metadata": {},
   "outputs": [
    {
     "output_type": "execute_result",
     "data": {
      "text/plain": "                         colunas   tipo  missing   size  unicos  percentual\nTP_ST_CONCLUSAO  TP_ST_CONCLUSAO  int64        0  13730       4         0.0\nNU_IDADE                NU_IDADE  int64        0  13730      55         0.0\nTP_ANO_CONCLUIU  TP_ANO_CONCLUIU  int64        0  13730      11         0.0\nIN_TREINEIRO        IN_TREINEIRO  int64        0  13730       2         0.0",
      "text/html": "<div>\n<style scoped>\n    .dataframe tbody tr th:only-of-type {\n        vertical-align: middle;\n    }\n\n    .dataframe tbody tr th {\n        vertical-align: top;\n    }\n\n    .dataframe thead th {\n        text-align: right;\n    }\n</style>\n<table border=\"1\" class=\"dataframe\">\n  <thead>\n    <tr style=\"text-align: right;\">\n      <th></th>\n      <th>colunas</th>\n      <th>tipo</th>\n      <th>missing</th>\n      <th>size</th>\n      <th>unicos</th>\n      <th>percentual</th>\n    </tr>\n  </thead>\n  <tbody>\n    <tr>\n      <th>TP_ST_CONCLUSAO</th>\n      <td>TP_ST_CONCLUSAO</td>\n      <td>int64</td>\n      <td>0</td>\n      <td>13730</td>\n      <td>4</td>\n      <td>0.0</td>\n    </tr>\n    <tr>\n      <th>NU_IDADE</th>\n      <td>NU_IDADE</td>\n      <td>int64</td>\n      <td>0</td>\n      <td>13730</td>\n      <td>55</td>\n      <td>0.0</td>\n    </tr>\n    <tr>\n      <th>TP_ANO_CONCLUIU</th>\n      <td>TP_ANO_CONCLUIU</td>\n      <td>int64</td>\n      <td>0</td>\n      <td>13730</td>\n      <td>11</td>\n      <td>0.0</td>\n    </tr>\n    <tr>\n      <th>IN_TREINEIRO</th>\n      <td>IN_TREINEIRO</td>\n      <td>int64</td>\n      <td>0</td>\n      <td>13730</td>\n      <td>2</td>\n      <td>0.0</td>\n    </tr>\n  </tbody>\n</table>\n</div>"
     },
     "metadata": {},
     "execution_count": 1323
    }
   ],
   "source": [
    "cons = pd.DataFrame({'colunas' : enem_features.columns,\n",
    "                    'tipo': enem_features.dtypes,\n",
    "                    'missing' : enem_features.isna().sum(),\n",
    "                    'size' : enem_features.shape[0],\n",
    "                    'unicos': enem_features.nunique()})\n",
    "cons['percentual'] = round(cons['missing'] / cons['size'],2)\n",
    "\n",
    "cons"
   ]
  },
  {
   "cell_type": "code",
   "execution_count": 1324,
   "metadata": {},
   "outputs": [
    {
     "output_type": "execute_result",
     "data": {
      "text/plain": "<pandas.io.formats.style.Styler at 0x1b8d0b23348>",
      "text/html": "<style  type=\"text/css\" >\n    #T_64dd7722_a8ea_11ea_9c69_309c2342e273row0_col0 {\n            background-color:  #b40426;\n            color:  #f1f1f1;\n        }    #T_64dd7722_a8ea_11ea_9c69_309c2342e273row0_col1 {\n            background-color:  #445acc;\n            color:  #f1f1f1;\n        }    #T_64dd7722_a8ea_11ea_9c69_309c2342e273row0_col2 {\n            background-color:  #3b4cc0;\n            color:  #f1f1f1;\n        }    #T_64dd7722_a8ea_11ea_9c69_309c2342e273row0_col3 {\n            background-color:  #f5c0a7;\n            color:  #000000;\n        }    #T_64dd7722_a8ea_11ea_9c69_309c2342e273row1_col0 {\n            background-color:  #80a3fa;\n            color:  #000000;\n        }    #T_64dd7722_a8ea_11ea_9c69_309c2342e273row1_col1 {\n            background-color:  #b40426;\n            color:  #f1f1f1;\n        }    #T_64dd7722_a8ea_11ea_9c69_309c2342e273row1_col2 {\n            background-color:  #ee8468;\n            color:  #000000;\n        }    #T_64dd7722_a8ea_11ea_9c69_309c2342e273row1_col3 {\n            background-color:  #3b4cc0;\n            color:  #f1f1f1;\n        }    #T_64dd7722_a8ea_11ea_9c69_309c2342e273row2_col0 {\n            background-color:  #3b4cc0;\n            color:  #f1f1f1;\n        }    #T_64dd7722_a8ea_11ea_9c69_309c2342e273row2_col1 {\n            background-color:  #f39778;\n            color:  #000000;\n        }    #T_64dd7722_a8ea_11ea_9c69_309c2342e273row2_col2 {\n            background-color:  #b40426;\n            color:  #f1f1f1;\n        }    #T_64dd7722_a8ea_11ea_9c69_309c2342e273row2_col3 {\n            background-color:  #4358cb;\n            color:  #f1f1f1;\n        }    #T_64dd7722_a8ea_11ea_9c69_309c2342e273row3_col0 {\n            background-color:  #f7a98b;\n            color:  #000000;\n        }    #T_64dd7722_a8ea_11ea_9c69_309c2342e273row3_col1 {\n            background-color:  #3b4cc0;\n            color:  #f1f1f1;\n        }    #T_64dd7722_a8ea_11ea_9c69_309c2342e273row3_col2 {\n            background-color:  #7ea1fa;\n            color:  #000000;\n        }    #T_64dd7722_a8ea_11ea_9c69_309c2342e273row3_col3 {\n            background-color:  #b40426;\n            color:  #f1f1f1;\n        }</style><table id=\"T_64dd7722_a8ea_11ea_9c69_309c2342e273\" ><thead>    <tr>        <th class=\"blank level0\" ></th>        <th class=\"col_heading level0 col0\" >TP_ST_CONCLUSAO</th>        <th class=\"col_heading level0 col1\" >NU_IDADE</th>        <th class=\"col_heading level0 col2\" >TP_ANO_CONCLUIU</th>        <th class=\"col_heading level0 col3\" >IN_TREINEIRO</th>    </tr></thead><tbody>\n                <tr>\n                        <th id=\"T_64dd7722_a8ea_11ea_9c69_309c2342e273level0_row0\" class=\"row_heading level0 row0\" >TP_ST_CONCLUSAO</th>\n                        <td id=\"T_64dd7722_a8ea_11ea_9c69_309c2342e273row0_col0\" class=\"data row0 col0\" >1.000000</td>\n                        <td id=\"T_64dd7722_a8ea_11ea_9c69_309c2342e273row0_col1\" class=\"data row0 col1\" >-0.253403</td>\n                        <td id=\"T_64dd7722_a8ea_11ea_9c69_309c2342e273row0_col2\" class=\"data row0 col2\" >-0.592834</td>\n                        <td id=\"T_64dd7722_a8ea_11ea_9c69_309c2342e273row0_col3\" class=\"data row0 col3\" >0.533983</td>\n            </tr>\n            <tr>\n                        <th id=\"T_64dd7722_a8ea_11ea_9c69_309c2342e273level0_row1\" class=\"row_heading level0 row1\" >NU_IDADE</th>\n                        <td id=\"T_64dd7722_a8ea_11ea_9c69_309c2342e273row1_col0\" class=\"data row1 col0\" >-0.253403</td>\n                        <td id=\"T_64dd7722_a8ea_11ea_9c69_309c2342e273row1_col1\" class=\"data row1 col1\" >1.000000</td>\n                        <td id=\"T_64dd7722_a8ea_11ea_9c69_309c2342e273row1_col2\" class=\"data row1 col2\" >0.681435</td>\n                        <td id=\"T_64dd7722_a8ea_11ea_9c69_309c2342e273row1_col3\" class=\"data row1 col3\" >-0.295091</td>\n            </tr>\n            <tr>\n                        <th id=\"T_64dd7722_a8ea_11ea_9c69_309c2342e273level0_row2\" class=\"row_heading level0 row2\" >TP_ANO_CONCLUIU</th>\n                        <td id=\"T_64dd7722_a8ea_11ea_9c69_309c2342e273row2_col0\" class=\"data row2 col0\" >-0.592834</td>\n                        <td id=\"T_64dd7722_a8ea_11ea_9c69_309c2342e273row2_col1\" class=\"data row2 col1\" >0.681435</td>\n                        <td id=\"T_64dd7722_a8ea_11ea_9c69_309c2342e273row2_col2\" class=\"data row2 col2\" >1.000000</td>\n                        <td id=\"T_64dd7722_a8ea_11ea_9c69_309c2342e273row2_col3\" class=\"data row2 col3\" >-0.257710</td>\n            </tr>\n            <tr>\n                        <th id=\"T_64dd7722_a8ea_11ea_9c69_309c2342e273level0_row3\" class=\"row_heading level0 row3\" >IN_TREINEIRO</th>\n                        <td id=\"T_64dd7722_a8ea_11ea_9c69_309c2342e273row3_col0\" class=\"data row3 col0\" >0.533983</td>\n                        <td id=\"T_64dd7722_a8ea_11ea_9c69_309c2342e273row3_col1\" class=\"data row3 col1\" >-0.295091</td>\n                        <td id=\"T_64dd7722_a8ea_11ea_9c69_309c2342e273row3_col2\" class=\"data row3 col2\" >-0.257710</td>\n                        <td id=\"T_64dd7722_a8ea_11ea_9c69_309c2342e273row3_col3\" class=\"data row3 col3\" >1.000000</td>\n            </tr>\n    </tbody></table>"
     },
     "metadata": {},
     "execution_count": 1324
    }
   ],
   "source": [
    "correlation_matrix = enem_features.corr(method = \"pearson\")\n",
    "correlation_matrix.style.background_gradient(cmap='coolwarm')"
   ]
  },
  {
   "cell_type": "markdown",
   "metadata": {},
   "source": [
    "TP_ST_CONCLUSAO\n",
    "\n",
    "1\tJá concluí o Ensino Médio\n",
    "\n",
    "2\tEstou cursando e concluirei o Ensino Médio em 2016\n",
    "\n",
    "3\tEstou cursando e concluirei o Ensino Médio após 2016\n",
    "\n",
    "4\tNão concluí e não estou cursando o Ensino Médio\n",
    "\n"
   ]
  },
  {
   "cell_type": "code",
   "execution_count": 1325,
   "metadata": {},
   "outputs": [],
   "source": [
    "def conclusao_ensino_binarization(dataframe):\n",
    "    binarizer = Binarizer(threshold=2).fit(dataframe)\n",
    "    tp_st_conclusao_binary = binarizer.transform(dataframe)\n",
    "\n",
    "    concluiu = tp_st_conclusao_binary.flatten().astype(bool)\n",
    "    concluiu = list(map(operator.not_, concluiu))\n",
    "    concluiu = pd.DataFrame(concluiu, columns=[\"CONCLUIU_ENSINO\"])\n",
    "    return concluiu\n",
    "\n",
    "concluiu = conclusao_ensino_binarization(enem_features[[\"TP_ST_CONCLUSAO\"]])"
   ]
  },
  {
   "cell_type": "code",
   "execution_count": 1326,
   "metadata": {},
   "outputs": [
    {
     "output_type": "execute_result",
     "data": {
      "text/plain": "       NU_IDADE  TP_ANO_CONCLUIU  IN_TREINEIRO  CONCLUIU_ENSINO\n0            24                4             0             True\n1            17                0             0             True\n2            21                0             0            False\n3            25                9             0             True\n4            28                4             0             True\n...         ...              ...           ...              ...\n13725        20                3             0             True\n13726        33               10             0             True\n13727        15                0             1            False\n13728        36                0             0            False\n13729        17                0             0             True\n\n[13730 rows x 4 columns]",
      "text/html": "<div>\n<style scoped>\n    .dataframe tbody tr th:only-of-type {\n        vertical-align: middle;\n    }\n\n    .dataframe tbody tr th {\n        vertical-align: top;\n    }\n\n    .dataframe thead th {\n        text-align: right;\n    }\n</style>\n<table border=\"1\" class=\"dataframe\">\n  <thead>\n    <tr style=\"text-align: right;\">\n      <th></th>\n      <th>NU_IDADE</th>\n      <th>TP_ANO_CONCLUIU</th>\n      <th>IN_TREINEIRO</th>\n      <th>CONCLUIU_ENSINO</th>\n    </tr>\n  </thead>\n  <tbody>\n    <tr>\n      <th>0</th>\n      <td>24</td>\n      <td>4</td>\n      <td>0</td>\n      <td>True</td>\n    </tr>\n    <tr>\n      <th>1</th>\n      <td>17</td>\n      <td>0</td>\n      <td>0</td>\n      <td>True</td>\n    </tr>\n    <tr>\n      <th>2</th>\n      <td>21</td>\n      <td>0</td>\n      <td>0</td>\n      <td>False</td>\n    </tr>\n    <tr>\n      <th>3</th>\n      <td>25</td>\n      <td>9</td>\n      <td>0</td>\n      <td>True</td>\n    </tr>\n    <tr>\n      <th>4</th>\n      <td>28</td>\n      <td>4</td>\n      <td>0</td>\n      <td>True</td>\n    </tr>\n    <tr>\n      <th>...</th>\n      <td>...</td>\n      <td>...</td>\n      <td>...</td>\n      <td>...</td>\n    </tr>\n    <tr>\n      <th>13725</th>\n      <td>20</td>\n      <td>3</td>\n      <td>0</td>\n      <td>True</td>\n    </tr>\n    <tr>\n      <th>13726</th>\n      <td>33</td>\n      <td>10</td>\n      <td>0</td>\n      <td>True</td>\n    </tr>\n    <tr>\n      <th>13727</th>\n      <td>15</td>\n      <td>0</td>\n      <td>1</td>\n      <td>False</td>\n    </tr>\n    <tr>\n      <th>13728</th>\n      <td>36</td>\n      <td>0</td>\n      <td>0</td>\n      <td>False</td>\n    </tr>\n    <tr>\n      <th>13729</th>\n      <td>17</td>\n      <td>0</td>\n      <td>0</td>\n      <td>True</td>\n    </tr>\n  </tbody>\n</table>\n<p>13730 rows × 4 columns</p>\n</div>"
     },
     "metadata": {},
     "execution_count": 1326
    }
   ],
   "source": [
    "enem_features = pd.concat([enem_features, tp_st_conclusao], axis = 1)\n",
    "enem_features = enem_features.drop(columns= \"TP_ST_CONCLUSAO\")\n",
    "enem_features"
   ]
  },
  {
   "cell_type": "code",
   "execution_count": 1327,
   "metadata": {},
   "outputs": [
    {
     "output_type": "execute_result",
     "data": {
      "text/plain": "<pandas.io.formats.style.Styler at 0x1b8d03dd648>",
      "text/html": "<style  type=\"text/css\" >\n    #T_64eae4be_a8ea_11ea_bd31_309c2342e273row0_col0 {\n            background-color:  #b40426;\n            color:  #f1f1f1;\n        }    #T_64eae4be_a8ea_11ea_bd31_309c2342e273row0_col1 {\n            background-color:  #f49a7b;\n            color:  #000000;\n        }    #T_64eae4be_a8ea_11ea_bd31_309c2342e273row0_col2 {\n            background-color:  #8fb1fe;\n            color:  #000000;\n        }    #T_64eae4be_a8ea_11ea_bd31_309c2342e273row0_col3 {\n            background-color:  #dfdbd9;\n            color:  #000000;\n        }    #T_64eae4be_a8ea_11ea_bd31_309c2342e273row1_col0 {\n            background-color:  #f39778;\n            color:  #000000;\n        }    #T_64eae4be_a8ea_11ea_bd31_309c2342e273row1_col1 {\n            background-color:  #b40426;\n            color:  #f1f1f1;\n        }    #T_64eae4be_a8ea_11ea_bd31_309c2342e273row1_col2 {\n            background-color:  #97b8ff;\n            color:  #000000;\n        }    #T_64eae4be_a8ea_11ea_bd31_309c2342e273row1_col3 {\n            background-color:  #f5c4ac;\n            color:  #000000;\n        }    #T_64eae4be_a8ea_11ea_bd31_309c2342e273row2_col0 {\n            background-color:  #3b4cc0;\n            color:  #f1f1f1;\n        }    #T_64eae4be_a8ea_11ea_bd31_309c2342e273row2_col1 {\n            background-color:  #3b4cc0;\n            color:  #f1f1f1;\n        }    #T_64eae4be_a8ea_11ea_bd31_309c2342e273row2_col2 {\n            background-color:  #b40426;\n            color:  #f1f1f1;\n        }    #T_64eae4be_a8ea_11ea_bd31_309c2342e273row2_col3 {\n            background-color:  #3b4cc0;\n            color:  #f1f1f1;\n        }    #T_64eae4be_a8ea_11ea_bd31_309c2342e273row3_col0 {\n            background-color:  #adc9fd;\n            color:  #000000;\n        }    #T_64eae4be_a8ea_11ea_bd31_309c2342e273row3_col1 {\n            background-color:  #d8dce2;\n            color:  #000000;\n        }    #T_64eae4be_a8ea_11ea_bd31_309c2342e273row3_col2 {\n            background-color:  #3b4cc0;\n            color:  #f1f1f1;\n        }    #T_64eae4be_a8ea_11ea_bd31_309c2342e273row3_col3 {\n            background-color:  #b40426;\n            color:  #f1f1f1;\n        }</style><table id=\"T_64eae4be_a8ea_11ea_bd31_309c2342e273\" ><thead>    <tr>        <th class=\"blank level0\" ></th>        <th class=\"col_heading level0 col0\" >NU_IDADE</th>        <th class=\"col_heading level0 col1\" >TP_ANO_CONCLUIU</th>        <th class=\"col_heading level0 col2\" >IN_TREINEIRO</th>        <th class=\"col_heading level0 col3\" >CONCLUIU_ENSINO</th>    </tr></thead><tbody>\n                <tr>\n                        <th id=\"T_64eae4be_a8ea_11ea_bd31_309c2342e273level0_row0\" class=\"row_heading level0 row0\" >NU_IDADE</th>\n                        <td id=\"T_64eae4be_a8ea_11ea_bd31_309c2342e273row0_col0\" class=\"data row0 col0\" >1.000000</td>\n                        <td id=\"T_64eae4be_a8ea_11ea_bd31_309c2342e273row0_col1\" class=\"data row0 col1\" >0.681435</td>\n                        <td id=\"T_64eae4be_a8ea_11ea_bd31_309c2342e273row0_col2\" class=\"data row0 col2\" >-0.295091</td>\n                        <td id=\"T_64eae4be_a8ea_11ea_bd31_309c2342e273row0_col3\" class=\"data row0 col3\" >0.148325</td>\n            </tr>\n            <tr>\n                        <th id=\"T_64eae4be_a8ea_11ea_bd31_309c2342e273level0_row1\" class=\"row_heading level0 row1\" >TP_ANO_CONCLUIU</th>\n                        <td id=\"T_64eae4be_a8ea_11ea_bd31_309c2342e273row1_col0\" class=\"data row1 col0\" >0.681435</td>\n                        <td id=\"T_64eae4be_a8ea_11ea_bd31_309c2342e273row1_col1\" class=\"data row1 col1\" >1.000000</td>\n                        <td id=\"T_64eae4be_a8ea_11ea_bd31_309c2342e273row1_col2\" class=\"data row1 col2\" >-0.257710</td>\n                        <td id=\"T_64eae4be_a8ea_11ea_bd31_309c2342e273row1_col3\" class=\"data row1 col3\" >0.346935</td>\n            </tr>\n            <tr>\n                        <th id=\"T_64eae4be_a8ea_11ea_bd31_309c2342e273level0_row2\" class=\"row_heading level0 row2\" >IN_TREINEIRO</th>\n                        <td id=\"T_64eae4be_a8ea_11ea_bd31_309c2342e273row2_col0\" class=\"data row2 col0\" >-0.295091</td>\n                        <td id=\"T_64eae4be_a8ea_11ea_bd31_309c2342e273row2_col1\" class=\"data row2 col1\" >-0.257710</td>\n                        <td id=\"T_64eae4be_a8ea_11ea_bd31_309c2342e273row2_col2\" class=\"data row2 col2\" >1.000000</td>\n                        <td id=\"T_64eae4be_a8ea_11ea_bd31_309c2342e273row2_col3\" class=\"data row2 col3\" >-0.742821</td>\n            </tr>\n            <tr>\n                        <th id=\"T_64eae4be_a8ea_11ea_bd31_309c2342e273level0_row3\" class=\"row_heading level0 row3\" >CONCLUIU_ENSINO</th>\n                        <td id=\"T_64eae4be_a8ea_11ea_bd31_309c2342e273row3_col0\" class=\"data row3 col0\" >0.148325</td>\n                        <td id=\"T_64eae4be_a8ea_11ea_bd31_309c2342e273row3_col1\" class=\"data row3 col1\" >0.346935</td>\n                        <td id=\"T_64eae4be_a8ea_11ea_bd31_309c2342e273row3_col2\" class=\"data row3 col2\" >-0.742821</td>\n                        <td id=\"T_64eae4be_a8ea_11ea_bd31_309c2342e273row3_col3\" class=\"data row3 col3\" >1.000000</td>\n            </tr>\n    </tbody></table>"
     },
     "metadata": {},
     "execution_count": 1327
    }
   ],
   "source": [
    "correlation_matrix = enem_features.corr(method = \"pearson\")\n",
    "correlation_matrix.style.background_gradient(cmap='coolwarm')"
   ]
  },
  {
   "cell_type": "code",
   "execution_count": 1328,
   "metadata": {},
   "outputs": [
    {
     "output_type": "execute_result",
     "data": {
      "text/plain": "LogisticRegression(C=1.0, class_weight=None, dual=False, fit_intercept=True,\n                   intercept_scaling=1, l1_ratio=None, max_iter=100,\n                   multi_class='auto', n_jobs=None, penalty='l2',\n                   random_state=None, solver='lbfgs', tol=0.0001, verbose=0,\n                   warm_start=False)"
     },
     "metadata": {},
     "execution_count": 1328
    }
   ],
   "source": [
    "logistic = LogisticRegression()\n",
    "\n",
    "X_train = enem_features.loc[:, enem_features.columns != \"IN_TREINEIRO\"]\n",
    "y_train = enem_features[\"IN_TREINEIRO\"]\n",
    "\n",
    "x_train, x_test, y_train, y_test = train_test_split(X_train.values, y_train.values, test_size = 0.4)\n",
    "\n",
    "logistic.fit(x_train,y_train)"
   ]
  },
  {
   "cell_type": "code",
   "execution_count": 1329,
   "metadata": {},
   "outputs": [
    {
     "output_type": "stream",
     "name": "stdout",
     "text": "0.9963583394027676\n"
    }
   ],
   "source": [
    "score = logistic.score(x_test, y_test)\n",
    "print(score)"
   ]
  },
  {
   "cell_type": "code",
   "execution_count": 1334,
   "metadata": {},
   "outputs": [],
   "source": [
    "df_test = pd.read_csv(\"test.csv\")\n",
    "df_test  = pd.DataFrame(df_test, columns= columns)\n",
    "df_test = df_test.drop(columns =\"IN_TREINEIRO\")\n",
    "\n",
    "concluiu = conclusao_ensino_binarization(df_test[[\"TP_ST_CONCLUSAO\"]])\n",
    "df_test = pd.concat([df_test, concluiu], axis=1)\n",
    "df_test = df_test.drop(columns= \"TP_ST_CONCLUSAO\")\n",
    "\n"
   ]
  },
  {
   "cell_type": "code",
   "execution_count": 1335,
   "metadata": {},
   "outputs": [
    {
     "output_type": "execute_result",
     "data": {
      "text/plain": "      NU_IDADE  TP_ANO_CONCLUIU  CONCLUIU_ENSINO\n0           19                3             True\n1           24                4             True\n2           16                0            False\n3           17                0             True\n4           19                1             True\n...        ...              ...              ...\n4565        17                0             True\n4566        20                2             True\n4567        22                5             True\n4568        19                0             True\n4569        33               10             True\n\n[4570 rows x 3 columns]",
      "text/html": "<div>\n<style scoped>\n    .dataframe tbody tr th:only-of-type {\n        vertical-align: middle;\n    }\n\n    .dataframe tbody tr th {\n        vertical-align: top;\n    }\n\n    .dataframe thead th {\n        text-align: right;\n    }\n</style>\n<table border=\"1\" class=\"dataframe\">\n  <thead>\n    <tr style=\"text-align: right;\">\n      <th></th>\n      <th>NU_IDADE</th>\n      <th>TP_ANO_CONCLUIU</th>\n      <th>CONCLUIU_ENSINO</th>\n    </tr>\n  </thead>\n  <tbody>\n    <tr>\n      <th>0</th>\n      <td>19</td>\n      <td>3</td>\n      <td>True</td>\n    </tr>\n    <tr>\n      <th>1</th>\n      <td>24</td>\n      <td>4</td>\n      <td>True</td>\n    </tr>\n    <tr>\n      <th>2</th>\n      <td>16</td>\n      <td>0</td>\n      <td>False</td>\n    </tr>\n    <tr>\n      <th>3</th>\n      <td>17</td>\n      <td>0</td>\n      <td>True</td>\n    </tr>\n    <tr>\n      <th>4</th>\n      <td>19</td>\n      <td>1</td>\n      <td>True</td>\n    </tr>\n    <tr>\n      <th>...</th>\n      <td>...</td>\n      <td>...</td>\n      <td>...</td>\n    </tr>\n    <tr>\n      <th>4565</th>\n      <td>17</td>\n      <td>0</td>\n      <td>True</td>\n    </tr>\n    <tr>\n      <th>4566</th>\n      <td>20</td>\n      <td>2</td>\n      <td>True</td>\n    </tr>\n    <tr>\n      <th>4567</th>\n      <td>22</td>\n      <td>5</td>\n      <td>True</td>\n    </tr>\n    <tr>\n      <th>4568</th>\n      <td>19</td>\n      <td>0</td>\n      <td>True</td>\n    </tr>\n    <tr>\n      <th>4569</th>\n      <td>33</td>\n      <td>10</td>\n      <td>True</td>\n    </tr>\n  </tbody>\n</table>\n<p>4570 rows × 3 columns</p>\n</div>"
     },
     "metadata": {},
     "execution_count": 1335
    }
   ],
   "source": [
    "df_test"
   ]
  },
  {
   "cell_type": "code",
   "execution_count": 1336,
   "metadata": {},
   "outputs": [
    {
     "output_type": "execute_result",
     "data": {
      "text/plain": "                                  NU_INSCRICAO  IN_TREINEIRO\n0     ba0cc30ba34e7a46764c09dfc38ed83d15828897             0\n1     177f281c68fa032aedbd842a745da68490926cd2             0\n2     6cf0d8b97597d7625cdedc7bdb6c0f052286c334             1\n3     5c356d810fa57671402502cd0933e5601a2ebf1e             0\n4     df47c07bd881c2db3f38c6048bf77c132ad0ceb3             0\n...                                        ...           ...\n4565  361b7fcd8867119550fe2af5aa729ffad89a7cf5             0\n4566  d8a0e4c9e29494cc9bba2422bd79333931475ee1             0\n4567  3f1c3388244df8d6521e983a809292d9f3bca643             0\n4568  1778e9c4cef591beb6b986d191d15ed05de816b0             0\n4569  096809759695097e384e766d2d9e23a34fc81610             0\n\n[4570 rows x 2 columns]",
      "text/html": "<div>\n<style scoped>\n    .dataframe tbody tr th:only-of-type {\n        vertical-align: middle;\n    }\n\n    .dataframe tbody tr th {\n        vertical-align: top;\n    }\n\n    .dataframe thead th {\n        text-align: right;\n    }\n</style>\n<table border=\"1\" class=\"dataframe\">\n  <thead>\n    <tr style=\"text-align: right;\">\n      <th></th>\n      <th>NU_INSCRICAO</th>\n      <th>IN_TREINEIRO</th>\n    </tr>\n  </thead>\n  <tbody>\n    <tr>\n      <th>0</th>\n      <td>ba0cc30ba34e7a46764c09dfc38ed83d15828897</td>\n      <td>0</td>\n    </tr>\n    <tr>\n      <th>1</th>\n      <td>177f281c68fa032aedbd842a745da68490926cd2</td>\n      <td>0</td>\n    </tr>\n    <tr>\n      <th>2</th>\n      <td>6cf0d8b97597d7625cdedc7bdb6c0f052286c334</td>\n      <td>1</td>\n    </tr>\n    <tr>\n      <th>3</th>\n      <td>5c356d810fa57671402502cd0933e5601a2ebf1e</td>\n      <td>0</td>\n    </tr>\n    <tr>\n      <th>4</th>\n      <td>df47c07bd881c2db3f38c6048bf77c132ad0ceb3</td>\n      <td>0</td>\n    </tr>\n    <tr>\n      <th>...</th>\n      <td>...</td>\n      <td>...</td>\n    </tr>\n    <tr>\n      <th>4565</th>\n      <td>361b7fcd8867119550fe2af5aa729ffad89a7cf5</td>\n      <td>0</td>\n    </tr>\n    <tr>\n      <th>4566</th>\n      <td>d8a0e4c9e29494cc9bba2422bd79333931475ee1</td>\n      <td>0</td>\n    </tr>\n    <tr>\n      <th>4567</th>\n      <td>3f1c3388244df8d6521e983a809292d9f3bca643</td>\n      <td>0</td>\n    </tr>\n    <tr>\n      <th>4568</th>\n      <td>1778e9c4cef591beb6b986d191d15ed05de816b0</td>\n      <td>0</td>\n    </tr>\n    <tr>\n      <th>4569</th>\n      <td>096809759695097e384e766d2d9e23a34fc81610</td>\n      <td>0</td>\n    </tr>\n  </tbody>\n</table>\n<p>4570 rows × 2 columns</p>\n</div>"
     },
     "metadata": {},
     "execution_count": 1336
    }
   ],
   "source": [
    "\n",
    "Y = logistic.predict(df_test)\n",
    "\n",
    "df_test = pd.read_csv(\"test.csv\")\n",
    "\n",
    "test_result = pd.DataFrame(data=df_test['NU_INSCRICAO'],\n",
    "              columns=['NU_INSCRICAO'])\n",
    "test_result['IN_TREINEIRO'] = Y\n",
    "test_result"
   ]
  },
  {
   "cell_type": "code",
   "execution_count": 1337,
   "metadata": {},
   "outputs": [],
   "source": [
    "test_result.to_csv('answer.csv', index=False)"
   ]
  }
 ],
 "metadata": {
  "language_info": {
   "codemirror_mode": {
    "name": "ipython",
    "version": 3
   },
   "file_extension": ".py",
   "mimetype": "text/x-python",
   "name": "python",
   "nbconvert_exporter": "python",
   "pygments_lexer": "ipython3",
   "version": "3.7.6-final"
  },
  "orig_nbformat": 2,
  "kernelspec": {
   "name": "python37664bitbaseconda6544f5bfcfd24c2eb4dabf13bce03a0e",
   "display_name": "Python 3.7.6 64-bit ('base': conda)"
  }
 },
 "nbformat": 4,
 "nbformat_minor": 2
}