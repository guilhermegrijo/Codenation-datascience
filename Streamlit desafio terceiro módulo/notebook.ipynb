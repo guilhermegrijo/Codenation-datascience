{
 "nbformat": 4,
 "nbformat_minor": 2,
 "metadata": {
  "language_info": {
   "name": "python",
   "codemirror_mode": {
    "name": "ipython",
    "version": 3
   },
   "version": "3.7.6-final"
  },
  "orig_nbformat": 2,
  "file_extension": ".py",
  "mimetype": "text/x-python",
  "name": "python",
  "npconvert_exporter": "python",
  "pygments_lexer": "ipython3",
  "version": 3,
  "kernelspec": {
   "name": "python37664bitbaseconda6544f5bfcfd24c2eb4dabf13bce03a0e",
   "display_name": "Python 3.7.6 64-bit ('base': conda)"
  }
 },
 "cells": [
  {
   "cell_type": "code",
   "execution_count": 130,
   "metadata": {},
   "outputs": [],
   "source": [
    "import pandas as pd\n",
    "from decimal import Decimal"
   ]
  },
  {
   "cell_type": "code",
   "execution_count": 131,
   "metadata": {},
   "outputs": [],
   "source": [
    "df = pd.read_csv('resultss.csv')"
   ]
  },
  {
   "cell_type": "code",
   "execution_count": 132,
   "metadata": {},
   "outputs": [
    {
     "data": {
      "text/html": "<div>\n<style scoped>\n    .dataframe tbody tr th:only-of-type {\n        vertical-align: middle;\n    }\n\n    .dataframe tbody tr th {\n        vertical-align: top;\n    }\n\n    .dataframe thead th {\n        text-align: right;\n    }\n</style>\n<table border=\"1\" class=\"dataframe\">\n  <thead>\n    <tr style=\"text-align: right;\">\n      <th></th>\n      <th>abandons</th>\n      <th>account_id</th>\n      <th>actions_per_min</th>\n      <th>ancient_kills</th>\n      <th>assists</th>\n      <th>backpack_0</th>\n      <th>backpack_1</th>\n      <th>backpack_2</th>\n      <th>buyback_count</th>\n      <th>camps_stacked</th>\n      <th>...</th>\n      <th>start_time</th>\n      <th>stuns</th>\n      <th>teamfight_participation</th>\n      <th>total_gold</th>\n      <th>total_xp</th>\n      <th>tower_damage</th>\n      <th>tower_kills</th>\n      <th>towers_killed</th>\n      <th>win</th>\n      <th>xp_per_min</th>\n    </tr>\n  </thead>\n  <tbody>\n    <tr>\n      <th>0</th>\n      <td>0</td>\n      <td>381798591.0</td>\n      <td>131.0</td>\n      <td>0.0</td>\n      <td>10</td>\n      <td>0.0</td>\n      <td>0.0</td>\n      <td>0.0</td>\n      <td>0.0</td>\n      <td>0.0</td>\n      <td>...</td>\n      <td>1527006038</td>\n      <td>26.178345</td>\n      <td>0.500000</td>\n      <td>22246</td>\n      <td>27965.0</td>\n      <td>4784.0</td>\n      <td>3.0</td>\n      <td>3.0</td>\n      <td>1</td>\n      <td>714</td>\n    </tr>\n    <tr>\n      <th>1</th>\n      <td>0</td>\n      <td>NaN</td>\n      <td>176.0</td>\n      <td>0.0</td>\n      <td>12</td>\n      <td>0.0</td>\n      <td>0.0</td>\n      <td>0.0</td>\n      <td>0.0</td>\n      <td>3.0</td>\n      <td>...</td>\n      <td>1527006038</td>\n      <td>0.000000</td>\n      <td>0.526316</td>\n      <td>16724</td>\n      <td>18721.0</td>\n      <td>1458.0</td>\n      <td>0.0</td>\n      <td>0.0</td>\n      <td>1</td>\n      <td>478</td>\n    </tr>\n    <tr>\n      <th>2</th>\n      <td>0</td>\n      <td>NaN</td>\n      <td>192.0</td>\n      <td>0.0</td>\n      <td>17</td>\n      <td>0.0</td>\n      <td>0.0</td>\n      <td>0.0</td>\n      <td>0.0</td>\n      <td>0.0</td>\n      <td>...</td>\n      <td>1527006038</td>\n      <td>43.595947</td>\n      <td>0.684211</td>\n      <td>13238</td>\n      <td>14961.0</td>\n      <td>381.0</td>\n      <td>0.0</td>\n      <td>0.0</td>\n      <td>1</td>\n      <td>382</td>\n    </tr>\n    <tr>\n      <th>3</th>\n      <td>0</td>\n      <td>110870904.0</td>\n      <td>150.0</td>\n      <td>0.0</td>\n      <td>17</td>\n      <td>0.0</td>\n      <td>0.0</td>\n      <td>0.0</td>\n      <td>0.0</td>\n      <td>0.0</td>\n      <td>...</td>\n      <td>1527006038</td>\n      <td>7.492188</td>\n      <td>0.578947</td>\n      <td>14530</td>\n      <td>20249.0</td>\n      <td>83.0</td>\n      <td>0.0</td>\n      <td>0.0</td>\n      <td>1</td>\n      <td>517</td>\n    </tr>\n    <tr>\n      <th>4</th>\n      <td>0</td>\n      <td>NaN</td>\n      <td>94.0</td>\n      <td>12.0</td>\n      <td>9</td>\n      <td>182.0</td>\n      <td>0.0</td>\n      <td>181.0</td>\n      <td>0.0</td>\n      <td>0.0</td>\n      <td>...</td>\n      <td>1527006038</td>\n      <td>0.000000</td>\n      <td>0.368421</td>\n      <td>23539</td>\n      <td>27886.0</td>\n      <td>7723.0</td>\n      <td>2.0</td>\n      <td>2.0</td>\n      <td>1</td>\n      <td>712</td>\n    </tr>\n    <tr>\n      <th>...</th>\n      <td>...</td>\n      <td>...</td>\n      <td>...</td>\n      <td>...</td>\n      <td>...</td>\n      <td>...</td>\n      <td>...</td>\n      <td>...</td>\n      <td>...</td>\n      <td>...</td>\n      <td>...</td>\n      <td>...</td>\n      <td>...</td>\n      <td>...</td>\n      <td>...</td>\n      <td>...</td>\n      <td>...</td>\n      <td>...</td>\n      <td>...</td>\n      <td>...</td>\n      <td>...</td>\n    </tr>\n    <tr>\n      <th>29465</th>\n      <td>0</td>\n      <td>111575715.0</td>\n      <td>NaN</td>\n      <td>NaN</td>\n      <td>23</td>\n      <td>NaN</td>\n      <td>NaN</td>\n      <td>NaN</td>\n      <td>NaN</td>\n      <td>NaN</td>\n      <td>...</td>\n      <td>1360828234</td>\n      <td>NaN</td>\n      <td>NaN</td>\n      <td>16555</td>\n      <td>21858.0</td>\n      <td>619.0</td>\n      <td>NaN</td>\n      <td>NaN</td>\n      <td>1</td>\n      <td>305</td>\n    </tr>\n    <tr>\n      <th>29466</th>\n      <td>0</td>\n      <td>82994873.0</td>\n      <td>NaN</td>\n      <td>NaN</td>\n      <td>24</td>\n      <td>NaN</td>\n      <td>NaN</td>\n      <td>NaN</td>\n      <td>NaN</td>\n      <td>NaN</td>\n      <td>...</td>\n      <td>1360828234</td>\n      <td>NaN</td>\n      <td>NaN</td>\n      <td>13616</td>\n      <td>17701.0</td>\n      <td>433.0</td>\n      <td>NaN</td>\n      <td>NaN</td>\n      <td>1</td>\n      <td>247</td>\n    </tr>\n    <tr>\n      <th>29467</th>\n      <td>0</td>\n      <td>111213639.0</td>\n      <td>NaN</td>\n      <td>NaN</td>\n      <td>12</td>\n      <td>NaN</td>\n      <td>NaN</td>\n      <td>NaN</td>\n      <td>NaN</td>\n      <td>NaN</td>\n      <td>...</td>\n      <td>1360828234</td>\n      <td>NaN</td>\n      <td>NaN</td>\n      <td>42785</td>\n      <td>32393.0</td>\n      <td>8381.0</td>\n      <td>NaN</td>\n      <td>NaN</td>\n      <td>1</td>\n      <td>452</td>\n    </tr>\n    <tr>\n      <th>29468</th>\n      <td>0</td>\n      <td>111242136.0</td>\n      <td>NaN</td>\n      <td>NaN</td>\n      <td>22</td>\n      <td>NaN</td>\n      <td>NaN</td>\n      <td>NaN</td>\n      <td>NaN</td>\n      <td>NaN</td>\n      <td>...</td>\n      <td>1360828234</td>\n      <td>NaN</td>\n      <td>NaN</td>\n      <td>27161</td>\n      <td>32823.0</td>\n      <td>1256.0</td>\n      <td>NaN</td>\n      <td>NaN</td>\n      <td>1</td>\n      <td>458</td>\n    </tr>\n    <tr>\n      <th>29469</th>\n      <td>0</td>\n      <td>120236951.0</td>\n      <td>NaN</td>\n      <td>NaN</td>\n      <td>10</td>\n      <td>NaN</td>\n      <td>NaN</td>\n      <td>NaN</td>\n      <td>NaN</td>\n      <td>NaN</td>\n      <td>...</td>\n      <td>1360828234</td>\n      <td>NaN</td>\n      <td>NaN</td>\n      <td>23363</td>\n      <td>29455.0</td>\n      <td>2092.0</td>\n      <td>NaN</td>\n      <td>NaN</td>\n      <td>1</td>\n      <td>411</td>\n    </tr>\n  </tbody>\n</table>\n<p>29470 rows × 88 columns</p>\n</div>",
      "text/plain": "       abandons   account_id  actions_per_min  ancient_kills  assists  \\\n0             0  381798591.0            131.0            0.0       10   \n1             0          NaN            176.0            0.0       12   \n2             0          NaN            192.0            0.0       17   \n3             0  110870904.0            150.0            0.0       17   \n4             0          NaN             94.0           12.0        9   \n...         ...          ...              ...            ...      ...   \n29465         0  111575715.0              NaN            NaN       23   \n29466         0   82994873.0              NaN            NaN       24   \n29467         0  111213639.0              NaN            NaN       12   \n29468         0  111242136.0              NaN            NaN       22   \n29469         0  120236951.0              NaN            NaN       10   \n\n       backpack_0  backpack_1  backpack_2  buyback_count  camps_stacked  ...  \\\n0             0.0         0.0         0.0            0.0            0.0  ...   \n1             0.0         0.0         0.0            0.0            3.0  ...   \n2             0.0         0.0         0.0            0.0            0.0  ...   \n3             0.0         0.0         0.0            0.0            0.0  ...   \n4           182.0         0.0       181.0            0.0            0.0  ...   \n...           ...         ...         ...            ...            ...  ...   \n29465         NaN         NaN         NaN            NaN            NaN  ...   \n29466         NaN         NaN         NaN            NaN            NaN  ...   \n29467         NaN         NaN         NaN            NaN            NaN  ...   \n29468         NaN         NaN         NaN            NaN            NaN  ...   \n29469         NaN         NaN         NaN            NaN            NaN  ...   \n\n       start_time      stuns  teamfight_participation  total_gold  total_xp  \\\n0      1527006038  26.178345                 0.500000       22246   27965.0   \n1      1527006038   0.000000                 0.526316       16724   18721.0   \n2      1527006038  43.595947                 0.684211       13238   14961.0   \n3      1527006038   7.492188                 0.578947       14530   20249.0   \n4      1527006038   0.000000                 0.368421       23539   27886.0   \n...           ...        ...                      ...         ...       ...   \n29465  1360828234        NaN                      NaN       16555   21858.0   \n29466  1360828234        NaN                      NaN       13616   17701.0   \n29467  1360828234        NaN                      NaN       42785   32393.0   \n29468  1360828234        NaN                      NaN       27161   32823.0   \n29469  1360828234        NaN                      NaN       23363   29455.0   \n\n       tower_damage  tower_kills  towers_killed  win  xp_per_min  \n0            4784.0          3.0            3.0    1         714  \n1            1458.0          0.0            0.0    1         478  \n2             381.0          0.0            0.0    1         382  \n3              83.0          0.0            0.0    1         517  \n4            7723.0          2.0            2.0    1         712  \n...             ...          ...            ...  ...         ...  \n29465         619.0          NaN            NaN    1         305  \n29466         433.0          NaN            NaN    1         247  \n29467        8381.0          NaN            NaN    1         452  \n29468        1256.0          NaN            NaN    1         458  \n29469        2092.0          NaN            NaN    1         411  \n\n[29470 rows x 88 columns]"
     },
     "execution_count": 132,
     "metadata": {},
     "output_type": "execute_result"
    }
   ],
   "source": [
    "df"
   ]
  },
  {
   "cell_type": "code",
   "execution_count": 133,
   "metadata": {},
   "outputs": [],
   "source": [
    "df_my_match = df[df['account_id'] == 120236951] \n",
    "win_lose = (df_my_match['win'].value_counts(normalize=True) * 100).round(1)"
   ]
  },
  {
   "cell_type": "code",
   "execution_count": 134,
   "metadata": {},
   "outputs": [
    {
     "data": {
      "text/html": "<div>\n<style scoped>\n    .dataframe tbody tr th:only-of-type {\n        vertical-align: middle;\n    }\n\n    .dataframe tbody tr th {\n        vertical-align: top;\n    }\n\n    .dataframe thead th {\n        text-align: right;\n    }\n</style>\n<table border=\"1\" class=\"dataframe\">\n  <thead>\n    <tr style=\"text-align: right;\">\n      <th></th>\n      <th>abandons</th>\n      <th>account_id</th>\n      <th>actions_per_min</th>\n      <th>ancient_kills</th>\n      <th>assists</th>\n      <th>backpack_0</th>\n      <th>backpack_1</th>\n      <th>backpack_2</th>\n      <th>buyback_count</th>\n      <th>camps_stacked</th>\n      <th>...</th>\n      <th>start_time</th>\n      <th>stuns</th>\n      <th>teamfight_participation</th>\n      <th>total_gold</th>\n      <th>total_xp</th>\n      <th>tower_damage</th>\n      <th>tower_kills</th>\n      <th>towers_killed</th>\n      <th>win</th>\n      <th>xp_per_min</th>\n    </tr>\n  </thead>\n  <tbody>\n    <tr>\n      <th>0</th>\n      <td>0</td>\n      <td>120236951.0</td>\n      <td>172.0</td>\n      <td>0.0</td>\n      <td>9</td>\n      <td>46.0</td>\n      <td>77.0</td>\n      <td>38.0</td>\n      <td>0.0</td>\n      <td>2.0</td>\n      <td>...</td>\n      <td>1527006038</td>\n      <td>77.030624</td>\n      <td>0.652174</td>\n      <td>17585</td>\n      <td>18095.0</td>\n      <td>204.0</td>\n      <td>0.0</td>\n      <td>0.0</td>\n      <td>0</td>\n      <td>462</td>\n    </tr>\n    <tr>\n      <th>1</th>\n      <td>0</td>\n      <td>120236951.0</td>\n      <td>131.0</td>\n      <td>5.0</td>\n      <td>6</td>\n      <td>36.0</td>\n      <td>0.0</td>\n      <td>0.0</td>\n      <td>0.0</td>\n      <td>1.0</td>\n      <td>...</td>\n      <td>1527002098</td>\n      <td>24.728760</td>\n      <td>0.692308</td>\n      <td>22085</td>\n      <td>26207.0</td>\n      <td>776.0</td>\n      <td>0.0</td>\n      <td>0.0</td>\n      <td>0</td>\n      <td>674</td>\n    </tr>\n    <tr>\n      <th>2</th>\n      <td>0</td>\n      <td>120236951.0</td>\n      <td>119.0</td>\n      <td>25.0</td>\n      <td>12</td>\n      <td>0.0</td>\n      <td>0.0</td>\n      <td>46.0</td>\n      <td>0.0</td>\n      <td>1.0</td>\n      <td>...</td>\n      <td>1526954973</td>\n      <td>0.132905</td>\n      <td>0.625000</td>\n      <td>32321</td>\n      <td>28189.0</td>\n      <td>4359.0</td>\n      <td>1.0</td>\n      <td>1.0</td>\n      <td>1</td>\n      <td>539</td>\n    </tr>\n    <tr>\n      <th>3</th>\n      <td>0</td>\n      <td>120236951.0</td>\n      <td>139.0</td>\n      <td>0.0</td>\n      <td>16</td>\n      <td>46.0</td>\n      <td>182.0</td>\n      <td>0.0</td>\n      <td>0.0</td>\n      <td>0.0</td>\n      <td>...</td>\n      <td>1526951613</td>\n      <td>68.404335</td>\n      <td>0.433962</td>\n      <td>22224</td>\n      <td>27947.0</td>\n      <td>436.0</td>\n      <td>1.0</td>\n      <td>1.0</td>\n      <td>1</td>\n      <td>625</td>\n    </tr>\n    <tr>\n      <th>4</th>\n      <td>0</td>\n      <td>120236951.0</td>\n      <td>NaN</td>\n      <td>NaN</td>\n      <td>17</td>\n      <td>0.0</td>\n      <td>100.0</td>\n      <td>0.0</td>\n      <td>NaN</td>\n      <td>NaN</td>\n      <td>...</td>\n      <td>1526916086</td>\n      <td>NaN</td>\n      <td>NaN</td>\n      <td>35907</td>\n      <td>38341.0</td>\n      <td>3501.0</td>\n      <td>NaN</td>\n      <td>NaN</td>\n      <td>1</td>\n      <td>756</td>\n    </tr>\n    <tr>\n      <th>...</th>\n      <td>...</td>\n      <td>...</td>\n      <td>...</td>\n      <td>...</td>\n      <td>...</td>\n      <td>...</td>\n      <td>...</td>\n      <td>...</td>\n      <td>...</td>\n      <td>...</td>\n      <td>...</td>\n      <td>...</td>\n      <td>...</td>\n      <td>...</td>\n      <td>...</td>\n      <td>...</td>\n      <td>...</td>\n      <td>...</td>\n      <td>...</td>\n      <td>...</td>\n      <td>...</td>\n    </tr>\n    <tr>\n      <th>2942</th>\n      <td>0</td>\n      <td>120236951.0</td>\n      <td>NaN</td>\n      <td>NaN</td>\n      <td>11</td>\n      <td>NaN</td>\n      <td>NaN</td>\n      <td>NaN</td>\n      <td>NaN</td>\n      <td>NaN</td>\n      <td>...</td>\n      <td>1362892305</td>\n      <td>NaN</td>\n      <td>NaN</td>\n      <td>24999</td>\n      <td>32529.0</td>\n      <td>4472.0</td>\n      <td>NaN</td>\n      <td>NaN</td>\n      <td>1</td>\n      <td>648</td>\n    </tr>\n    <tr>\n      <th>2943</th>\n      <td>0</td>\n      <td>120236951.0</td>\n      <td>NaN</td>\n      <td>NaN</td>\n      <td>2</td>\n      <td>NaN</td>\n      <td>NaN</td>\n      <td>NaN</td>\n      <td>NaN</td>\n      <td>NaN</td>\n      <td>...</td>\n      <td>1362217193</td>\n      <td>NaN</td>\n      <td>NaN</td>\n      <td>9678</td>\n      <td>13185.0</td>\n      <td>0.0</td>\n      <td>NaN</td>\n      <td>NaN</td>\n      <td>0</td>\n      <td>376</td>\n    </tr>\n    <tr>\n      <th>2944</th>\n      <td>0</td>\n      <td>120236951.0</td>\n      <td>NaN</td>\n      <td>NaN</td>\n      <td>13</td>\n      <td>NaN</td>\n      <td>NaN</td>\n      <td>NaN</td>\n      <td>NaN</td>\n      <td>NaN</td>\n      <td>...</td>\n      <td>1362214343</td>\n      <td>NaN</td>\n      <td>NaN</td>\n      <td>12373</td>\n      <td>12940.0</td>\n      <td>2411.0</td>\n      <td>NaN</td>\n      <td>NaN</td>\n      <td>1</td>\n      <td>479</td>\n    </tr>\n    <tr>\n      <th>2945</th>\n      <td>0</td>\n      <td>120236951.0</td>\n      <td>NaN</td>\n      <td>NaN</td>\n      <td>12</td>\n      <td>NaN</td>\n      <td>NaN</td>\n      <td>NaN</td>\n      <td>NaN</td>\n      <td>NaN</td>\n      <td>...</td>\n      <td>1361436399</td>\n      <td>NaN</td>\n      <td>NaN</td>\n      <td>10746</td>\n      <td>10016.0</td>\n      <td>2005.0</td>\n      <td>NaN</td>\n      <td>NaN</td>\n      <td>1</td>\n      <td>384</td>\n    </tr>\n    <tr>\n      <th>2946</th>\n      <td>0</td>\n      <td>120236951.0</td>\n      <td>NaN</td>\n      <td>NaN</td>\n      <td>10</td>\n      <td>NaN</td>\n      <td>NaN</td>\n      <td>NaN</td>\n      <td>NaN</td>\n      <td>NaN</td>\n      <td>...</td>\n      <td>1360828234</td>\n      <td>NaN</td>\n      <td>NaN</td>\n      <td>23363</td>\n      <td>29455.0</td>\n      <td>2092.0</td>\n      <td>NaN</td>\n      <td>NaN</td>\n      <td>1</td>\n      <td>411</td>\n    </tr>\n  </tbody>\n</table>\n<p>2947 rows × 88 columns</p>\n</div>",
      "text/plain": "      abandons   account_id  actions_per_min  ancient_kills  assists  \\\n0            0  120236951.0            172.0            0.0        9   \n1            0  120236951.0            131.0            5.0        6   \n2            0  120236951.0            119.0           25.0       12   \n3            0  120236951.0            139.0            0.0       16   \n4            0  120236951.0              NaN            NaN       17   \n...        ...          ...              ...            ...      ...   \n2942         0  120236951.0              NaN            NaN       11   \n2943         0  120236951.0              NaN            NaN        2   \n2944         0  120236951.0              NaN            NaN       13   \n2945         0  120236951.0              NaN            NaN       12   \n2946         0  120236951.0              NaN            NaN       10   \n\n      backpack_0  backpack_1  backpack_2  buyback_count  camps_stacked  ...  \\\n0           46.0        77.0        38.0            0.0            2.0  ...   \n1           36.0         0.0         0.0            0.0            1.0  ...   \n2            0.0         0.0        46.0            0.0            1.0  ...   \n3           46.0       182.0         0.0            0.0            0.0  ...   \n4            0.0       100.0         0.0            NaN            NaN  ...   \n...          ...         ...         ...            ...            ...  ...   \n2942         NaN         NaN         NaN            NaN            NaN  ...   \n2943         NaN         NaN         NaN            NaN            NaN  ...   \n2944         NaN         NaN         NaN            NaN            NaN  ...   \n2945         NaN         NaN         NaN            NaN            NaN  ...   \n2946         NaN         NaN         NaN            NaN            NaN  ...   \n\n      start_time      stuns  teamfight_participation  total_gold  total_xp  \\\n0     1527006038  77.030624                 0.652174       17585   18095.0   \n1     1527002098  24.728760                 0.692308       22085   26207.0   \n2     1526954973   0.132905                 0.625000       32321   28189.0   \n3     1526951613  68.404335                 0.433962       22224   27947.0   \n4     1526916086        NaN                      NaN       35907   38341.0   \n...          ...        ...                      ...         ...       ...   \n2942  1362892305        NaN                      NaN       24999   32529.0   \n2943  1362217193        NaN                      NaN        9678   13185.0   \n2944  1362214343        NaN                      NaN       12373   12940.0   \n2945  1361436399        NaN                      NaN       10746   10016.0   \n2946  1360828234        NaN                      NaN       23363   29455.0   \n\n      tower_damage  tower_kills  towers_killed  win  xp_per_min  \n0            204.0          0.0            0.0    0         462  \n1            776.0          0.0            0.0    0         674  \n2           4359.0          1.0            1.0    1         539  \n3            436.0          1.0            1.0    1         625  \n4           3501.0          NaN            NaN    1         756  \n...            ...          ...            ...  ...         ...  \n2942        4472.0          NaN            NaN    1         648  \n2943           0.0          NaN            NaN    0         376  \n2944        2411.0          NaN            NaN    1         479  \n2945        2005.0          NaN            NaN    1         384  \n2946        2092.0          NaN            NaN    1         411  \n\n[2947 rows x 88 columns]"
     },
     "execution_count": 134,
     "metadata": {},
     "output_type": "execute_result"
    }
   ],
   "source": [
    "df_my_match.reset_index(drop = True)"
   ]
  },
  {
   "cell_type": "code",
   "execution_count": 135,
   "metadata": {},
   "outputs": [],
   "source": [
    "\n",
    "df_my_match = df_my_match[['kda','kills_per_min', 'gold_per_min','tower_damage', 'xp_per_min', 'patch','last_hits','match_id','radiant_win','win']]"
   ]
  },
  {
   "cell_type": "code",
   "execution_count": 136,
   "metadata": {},
   "outputs": [
    {
     "data": {
      "text/html": "<div>\n<style scoped>\n    .dataframe tbody tr th:only-of-type {\n        vertical-align: middle;\n    }\n\n    .dataframe tbody tr th {\n        vertical-align: top;\n    }\n\n    .dataframe thead th {\n        text-align: right;\n    }\n</style>\n<table border=\"1\" class=\"dataframe\">\n  <thead>\n    <tr style=\"text-align: right;\">\n      <th></th>\n      <th>kda</th>\n      <th>kills_per_min</th>\n      <th>gold_per_min</th>\n      <th>tower_damage</th>\n      <th>xp_per_min</th>\n      <th>patch</th>\n      <th>last_hits</th>\n      <th>match_id</th>\n      <th>radiant_win</th>\n      <th>win</th>\n    </tr>\n  </thead>\n  <tbody>\n    <tr>\n      <th>7</th>\n      <td>1</td>\n      <td>0.153191</td>\n      <td>449</td>\n      <td>204.0</td>\n      <td>462</td>\n      <td>34.0</td>\n      <td>210</td>\n      <td>3907772517</td>\n      <td>True</td>\n      <td>0</td>\n    </tr>\n    <tr>\n      <th>13</th>\n      <td>6</td>\n      <td>0.308616</td>\n      <td>568</td>\n      <td>776.0</td>\n      <td>674</td>\n      <td>34.0</td>\n      <td>330</td>\n      <td>3907646053</td>\n      <td>False</td>\n      <td>0</td>\n    </tr>\n    <tr>\n      <th>29</th>\n      <td>4</td>\n      <td>0.152964</td>\n      <td>618</td>\n      <td>4359.0</td>\n      <td>539</td>\n      <td>34.0</td>\n      <td>430</td>\n      <td>3906434764</td>\n      <td>False</td>\n      <td>1</td>\n    </tr>\n    <tr>\n      <th>35</th>\n      <td>2</td>\n      <td>0.178904</td>\n      <td>497</td>\n      <td>436.0</td>\n      <td>625</td>\n      <td>34.0</td>\n      <td>217</td>\n      <td>3906388568</td>\n      <td>False</td>\n      <td>1</td>\n    </tr>\n    <tr>\n      <th>40</th>\n      <td>4</td>\n      <td>0.216891</td>\n      <td>708</td>\n      <td>3501.0</td>\n      <td>756</td>\n      <td>34.0</td>\n      <td>520</td>\n      <td>3905696833</td>\n      <td>True</td>\n      <td>1</td>\n    </tr>\n    <tr>\n      <th>...</th>\n      <td>...</td>\n      <td>...</td>\n      <td>...</td>\n      <td>...</td>\n      <td>...</td>\n      <td>...</td>\n      <td>...</td>\n      <td>...</td>\n      <td>...</td>\n      <td>...</td>\n    </tr>\n    <tr>\n      <th>29428</th>\n      <td>3</td>\n      <td>0.278884</td>\n      <td>498</td>\n      <td>4472.0</td>\n      <td>648</td>\n      <td>7.0</td>\n      <td>165</td>\n      <td>145625737</td>\n      <td>False</td>\n      <td>1</td>\n    </tr>\n    <tr>\n      <th>29439</th>\n      <td>0</td>\n      <td>0.142586</td>\n      <td>276</td>\n      <td>0.0</td>\n      <td>376</td>\n      <td>7.0</td>\n      <td>112</td>\n      <td>139512319</td>\n      <td>True</td>\n      <td>0</td>\n    </tr>\n    <tr>\n      <th>29444</th>\n      <td>17</td>\n      <td>0.148057</td>\n      <td>458</td>\n      <td>2411.0</td>\n      <td>479</td>\n      <td>7.0</td>\n      <td>78</td>\n      <td>139485426</td>\n      <td>True</td>\n      <td>1</td>\n    </tr>\n    <tr>\n      <th>29458</th>\n      <td>4</td>\n      <td>0.153355</td>\n      <td>412</td>\n      <td>2005.0</td>\n      <td>384</td>\n      <td>7.0</td>\n      <td>50</td>\n      <td>131429532</td>\n      <td>False</td>\n      <td>1</td>\n    </tr>\n    <tr>\n      <th>29469</th>\n      <td>2</td>\n      <td>0.111628</td>\n      <td>326</td>\n      <td>2092.0</td>\n      <td>411</td>\n      <td>7.0</td>\n      <td>209</td>\n      <td>124963373</td>\n      <td>False</td>\n      <td>1</td>\n    </tr>\n  </tbody>\n</table>\n<p>2947 rows × 10 columns</p>\n</div>",
      "text/plain": "       kda  kills_per_min  gold_per_min  tower_damage  xp_per_min  patch  \\\n7        1       0.153191           449         204.0         462   34.0   \n13       6       0.308616           568         776.0         674   34.0   \n29       4       0.152964           618        4359.0         539   34.0   \n35       2       0.178904           497         436.0         625   34.0   \n40       4       0.216891           708        3501.0         756   34.0   \n...    ...            ...           ...           ...         ...    ...   \n29428    3       0.278884           498        4472.0         648    7.0   \n29439    0       0.142586           276           0.0         376    7.0   \n29444   17       0.148057           458        2411.0         479    7.0   \n29458    4       0.153355           412        2005.0         384    7.0   \n29469    2       0.111628           326        2092.0         411    7.0   \n\n       last_hits    match_id  radiant_win  win  \n7            210  3907772517         True    0  \n13           330  3907646053        False    0  \n29           430  3906434764        False    1  \n35           217  3906388568        False    1  \n40           520  3905696833         True    1  \n...          ...         ...          ...  ...  \n29428        165   145625737        False    1  \n29439        112   139512319         True    0  \n29444         78   139485426         True    1  \n29458         50   131429532        False    1  \n29469        209   124963373        False    1  \n\n[2947 rows x 10 columns]"
     },
     "execution_count": 136,
     "metadata": {},
     "output_type": "execute_result"
    }
   ],
   "source": [
    "df_my_match"
   ]
  },
  {
   "cell_type": "code",
   "execution_count": 137,
   "metadata": {},
   "outputs": [
    {
     "data": {
      "text/plain": "patch\n7.0     [201427605, 186221547, 186188281, 186157469, 1...\n9.0     [485922711, 485778855, 485645933, 485538192, 4...\n10.0    [629501576, 625888176, 624429299, 620620078, 6...\n11.0    [864054861, 858404866, 858380967, 854869996, 8...\n13.0    [1435268564, 1434904740, 1433728616, 143366188...\n14.0    [1569751120, 1558225668, 1558180617, 152661279...\n15.0    [2006018453, 2005927434, 2005863740, 200578623...\n16.0    [2319998168, 2319938600, 2319874028, 231801414...\n17.0    [2430280524, 2429686923, 2429514638, 242928671...\n18.0    [2620627162, 2586031887, 2584240367, 258338833...\n19.0    [2856953267, 2856892264, 2856278461, 285616270...\n20.0    [2986132693, 2986096096, 2985533984, 298548557...\n21.0    [3057536984, 3057512520, 3057057658, 305698637...\n22.0    [3073247155, 3073172193, 3072008101, 307197010...\n23.0    [3108588763, 3108439307, 3107093713, 310701356...\n24.0    [3180260015, 3180165015, 3180032702, 317889165...\n25.0    [3528450895, 3528240746, 3527906745, 352667958...\n26.0    [3669674224, 3659310755, 3656427725, 357697010...\n27.0                 [3723798005, 3717086184, 3716508826]\n28.0    [3757326622, 3757234006, 3756704553, 375664628...\n29.0    [3780923978, 3780663296, 3780256552, 378020871...\n30.0    [3804322816, 3804227664, 3803730107, 380365053...\n31.0    [3827923180, 3827859180, 3827690035, 382761876...\n32.0    [3850654375, 3850595656, 3848218142, 384757129...\n33.0    [3865856041, 3856246416, 3854328547, 385427365...\n34.0    [3907772517, 3907646053, 3906434764, 390638856...\nName: match_id, dtype: object"
     },
     "execution_count": 137,
     "metadata": {},
     "output_type": "execute_result"
    }
   ],
   "source": [
    "df_my_match.groupby('patch')['match_id'].unique()"
   ]
  },
  {
   "cell_type": "code",
   "execution_count": 174,
   "metadata": {},
   "outputs": [],
   "source": [
    "df_win = df_my_match[df_my_match['win']==1]['gold_per_min'].dropna().value_counts().sort_index()\n",
    "df_matches = df_my_match['gold_per_min'].dropna().value_counts().sort_index()\n"
   ]
  },
  {
   "cell_type": "code",
   "execution_count": 176,
   "metadata": {},
   "outputs": [],
   "source": [
    "win_rate = (df_win / df_matches)"
   ]
  },
  {
   "cell_type": "code",
   "execution_count": 177,
   "metadata": {},
   "outputs": [
    {
     "data": {
      "text/plain": "Int64Index([100, 124, 134, 143, 144, 156, 157, 163, 164, 165,\n            ...\n            848, 858, 876, 880, 893, 902, 909, 911, 931, 989],\n           dtype='int64', length=610)"
     },
     "execution_count": 177,
     "metadata": {},
     "output_type": "execute_result"
    }
   ],
   "source": [
    "win_rate.index"
   ]
  },
  {
   "cell_type": "code",
   "execution_count": null,
   "metadata": {},
   "outputs": [],
   "source": []
  }
 ]
}